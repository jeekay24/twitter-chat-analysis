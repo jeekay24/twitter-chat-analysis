{
 "cells": [
  {
   "cell_type": "code",
   "execution_count": 97,
   "metadata": {},
   "outputs": [],
   "source": [
    "import pandas as  pd\n",
    "df=pd.read_csv(\"Tweets.csv\")"
   ]
  },
  {
   "cell_type": "code",
   "execution_count": 98,
   "metadata": {},
   "outputs": [
    {
     "data": {
      "text/plain": [
       "<bound method NDFrame.head of                  tweet_id airline_sentiment  airline_sentiment_confidence  \\\n",
       "0      570306133677760513           neutral                        1.0000   \n",
       "1      570301130888122368          positive                        0.3486   \n",
       "2      570301083672813571           neutral                        0.6837   \n",
       "3      570301031407624196          negative                        1.0000   \n",
       "4      570300817074462722          negative                        1.0000   \n",
       "...                   ...               ...                           ...   \n",
       "14635  569587686496825344          positive                        0.3487   \n",
       "14636  569587371693355008          negative                        1.0000   \n",
       "14637  569587242672398336           neutral                        1.0000   \n",
       "14638  569587188687634433          negative                        1.0000   \n",
       "14639  569587140490866689           neutral                        0.6771   \n",
       "\n",
       "               negativereason  negativereason_confidence         airline  \\\n",
       "0                         NaN                        NaN  Virgin America   \n",
       "1                         NaN                     0.0000  Virgin America   \n",
       "2                         NaN                        NaN  Virgin America   \n",
       "3                  Bad Flight                     0.7033  Virgin America   \n",
       "4                  Can't Tell                     1.0000  Virgin America   \n",
       "...                       ...                        ...             ...   \n",
       "14635                     NaN                     0.0000        American   \n",
       "14636  Customer Service Issue                     1.0000        American   \n",
       "14637                     NaN                        NaN        American   \n",
       "14638  Customer Service Issue                     0.6659        American   \n",
       "14639                     NaN                     0.0000        American   \n",
       "\n",
       "      airline_sentiment_gold             name negativereason_gold  \\\n",
       "0                        NaN          cairdin                 NaN   \n",
       "1                        NaN         jnardino                 NaN   \n",
       "2                        NaN       yvonnalynn                 NaN   \n",
       "3                        NaN         jnardino                 NaN   \n",
       "4                        NaN         jnardino                 NaN   \n",
       "...                      ...              ...                 ...   \n",
       "14635                    NaN  KristenReenders                 NaN   \n",
       "14636                    NaN         itsropes                 NaN   \n",
       "14637                    NaN         sanyabun                 NaN   \n",
       "14638                    NaN       SraJackson                 NaN   \n",
       "14639                    NaN        daviddtwu                 NaN   \n",
       "\n",
       "       retweet_count                                               text  \\\n",
       "0                  0                @VirginAmerica What @dhepburn said.   \n",
       "1                  0  @VirginAmerica plus you've added commercials t...   \n",
       "2                  0  @VirginAmerica I didn't today... Must mean I n...   \n",
       "3                  0  @VirginAmerica it's really aggressive to blast...   \n",
       "4                  0  @VirginAmerica and it's a really big bad thing...   \n",
       "...              ...                                                ...   \n",
       "14635              0  @AmericanAir thank you we got on a different f...   \n",
       "14636              0  @AmericanAir leaving over 20 minutes Late Flig...   \n",
       "14637              0  @AmericanAir Please bring American Airlines to...   \n",
       "14638              0  @AmericanAir you have my money, you change my ...   \n",
       "14639              0  @AmericanAir we have 8 ppl so we need 2 know h...   \n",
       "\n",
       "      tweet_coord              tweet_created tweet_location  \\\n",
       "0             NaN  2015-02-24 11:35:52 -0800            NaN   \n",
       "1             NaN  2015-02-24 11:15:59 -0800            NaN   \n",
       "2             NaN  2015-02-24 11:15:48 -0800      Lets Play   \n",
       "3             NaN  2015-02-24 11:15:36 -0800            NaN   \n",
       "4             NaN  2015-02-24 11:14:45 -0800            NaN   \n",
       "...           ...                        ...            ...   \n",
       "14635         NaN  2015-02-22 12:01:01 -0800            NaN   \n",
       "14636         NaN  2015-02-22 11:59:46 -0800          Texas   \n",
       "14637         NaN  2015-02-22 11:59:15 -0800  Nigeria,lagos   \n",
       "14638         NaN  2015-02-22 11:59:02 -0800     New Jersey   \n",
       "14639         NaN  2015-02-22 11:58:51 -0800     dallas, TX   \n",
       "\n",
       "                    user_timezone  \n",
       "0      Eastern Time (US & Canada)  \n",
       "1      Pacific Time (US & Canada)  \n",
       "2      Central Time (US & Canada)  \n",
       "3      Pacific Time (US & Canada)  \n",
       "4      Pacific Time (US & Canada)  \n",
       "...                           ...  \n",
       "14635                         NaN  \n",
       "14636                         NaN  \n",
       "14637                         NaN  \n",
       "14638  Eastern Time (US & Canada)  \n",
       "14639                         NaN  \n",
       "\n",
       "[14640 rows x 15 columns]>"
      ]
     },
     "execution_count": 98,
     "metadata": {},
     "output_type": "execute_result"
    }
   ],
   "source": [
    "df.head"
   ]
  },
  {
   "cell_type": "code",
   "execution_count": 99,
   "metadata": {},
   "outputs": [
    {
     "data": {
      "text/plain": [
       "Index(['tweet_id', 'airline_sentiment', 'airline_sentiment_confidence',\n",
       "       'negativereason', 'negativereason_confidence', 'airline',\n",
       "       'airline_sentiment_gold', 'name', 'negativereason_gold',\n",
       "       'retweet_count', 'text', 'tweet_coord', 'tweet_created',\n",
       "       'tweet_location', 'user_timezone'],\n",
       "      dtype='object')"
      ]
     },
     "execution_count": 99,
     "metadata": {},
     "output_type": "execute_result"
    }
   ],
   "source": [
    "df.columns"
   ]
  },
  {
   "cell_type": "code",
   "execution_count": 100,
   "metadata": {},
   "outputs": [
    {
     "name": "stdout",
     "output_type": "stream",
     "text": [
      "(14640, 2)\n"
     ]
    }
   ],
   "source": [
    "\n",
    "dfn=df[['text','airline_sentiment']]\n",
    "print(dfn.shape)"
   ]
  },
  {
   "cell_type": "code",
   "execution_count": 101,
   "metadata": {},
   "outputs": [
    {
     "name": "stderr",
     "output_type": "stream",
     "text": [
      "[nltk_data] Downloading package stopwords to\n",
      "[nltk_data]     C:\\Users\\JeeKay\\AppData\\Roaming\\nltk_data...\n",
      "[nltk_data]   Package stopwords is already up-to-date!\n"
     ]
    }
   ],
   "source": [
    "#remove stop words\n",
    "import nltk\n",
    "from nltk.corpus import stopwords\n",
    "\n",
    "nltk.download('stopwords')\n",
    "stop_words = set(stopwords.words('english'))\n",
    "\n",
    "def remove_stopwords(text):\n",
    "    tokens = nltk.word_tokenize(text)\n",
    "    filtered_tokens = [word for word in tokens if word.lower() not in stop_words]\n",
    "    return ' '.join(filtered_tokens)\n"
   ]
  },
  {
   "cell_type": "code",
   "execution_count": 102,
   "metadata": {},
   "outputs": [],
   "source": [
    "#stemming\n",
    "from nltk.stem import PorterStemmer\n",
    "\n",
    "stemmer = PorterStemmer()\n",
    "\n",
    "def stem_text(text):\n",
    "    tokens = nltk.word_tokenize(text)\n",
    "    stemmed_tokens = [stemmer.stem(word) for word in tokens]\n",
    "    return ' '.join(stemmed_tokens)\n"
   ]
  },
  {
   "cell_type": "code",
   "execution_count": 103,
   "metadata": {},
   "outputs": [],
   "source": [
    "#removing url and special characters\n",
    "import re\n",
    "\n",
    "def remove_urls_special_characters(text):\n",
    "    # Remove URLs\n",
    "    text = re.sub(r'http\\S+', '', text)\n",
    "    # Remove special characters and punctuation except for apostrophes\n",
    "    text = re.sub(r'[^a-zA-Z0-9\\']+', ' ', text)\n",
    "    return text\n"
   ]
  },
  {
   "cell_type": "code",
   "execution_count": 104,
   "metadata": {},
   "outputs": [
    {
     "data": {
      "text/plain": [
       "<bound method NDFrame.head of                                                     text airline_sentiment\n",
       "0                    @VirginAmerica What @dhepburn said.           neutral\n",
       "1      @VirginAmerica plus you've added commercials t...          positive\n",
       "2      @VirginAmerica I didn't today... Must mean I n...           neutral\n",
       "3      @VirginAmerica it's really aggressive to blast...          negative\n",
       "4      @VirginAmerica and it's a really big bad thing...          negative\n",
       "...                                                  ...               ...\n",
       "14635  @AmericanAir thank you we got on a different f...          positive\n",
       "14636  @AmericanAir leaving over 20 minutes Late Flig...          negative\n",
       "14637  @AmericanAir Please bring American Airlines to...           neutral\n",
       "14638  @AmericanAir you have my money, you change my ...          negative\n",
       "14639  @AmericanAir we have 8 ppl so we need 2 know h...           neutral\n",
       "\n",
       "[14640 rows x 2 columns]>"
      ]
     },
     "execution_count": 104,
     "metadata": {},
     "output_type": "execute_result"
    }
   ],
   "source": [
    "dfn.head"
   ]
  },
  {
   "cell_type": "code",
   "execution_count": 105,
   "metadata": {},
   "outputs": [
    {
     "name": "stdout",
     "output_type": "stream",
     "text": [
      "(11541, 2)\n"
     ]
    }
   ],
   "source": [
    "dfn=dfn[dfn['airline_sentiment']!='neutral']\n",
    "print(dfn.shape)"
   ]
  },
  {
   "cell_type": "code",
   "execution_count": 106,
   "metadata": {},
   "outputs": [
    {
     "data": {
      "text/plain": [
       "<bound method NDFrame.head of                                                     text airline_sentiment\n",
       "1      @VirginAmerica plus you've added commercials t...          positive\n",
       "3      @VirginAmerica it's really aggressive to blast...          negative\n",
       "4      @VirginAmerica and it's a really big bad thing...          negative\n",
       "5      @VirginAmerica seriously would pay $30 a fligh...          negative\n",
       "6      @VirginAmerica yes, nearly every time I fly VX...          positive\n",
       "...                                                  ...               ...\n",
       "14633  @AmericanAir my flight was Cancelled Flightled...          negative\n",
       "14634         @AmericanAir right on cue with the delays👌          negative\n",
       "14635  @AmericanAir thank you we got on a different f...          positive\n",
       "14636  @AmericanAir leaving over 20 minutes Late Flig...          negative\n",
       "14638  @AmericanAir you have my money, you change my ...          negative\n",
       "\n",
       "[11541 rows x 2 columns]>"
      ]
     },
     "execution_count": 106,
     "metadata": {},
     "output_type": "execute_result"
    }
   ],
   "source": [
    "dfn.head"
   ]
  },
  {
   "cell_type": "code",
   "execution_count": 107,
   "metadata": {},
   "outputs": [
    {
     "data": {
      "text/plain": [
       "airline_sentiment\n",
       "negative    9178\n",
       "positive    2363\n",
       "Name: count, dtype: int64"
      ]
     },
     "execution_count": 107,
     "metadata": {},
     "output_type": "execute_result"
    }
   ],
   "source": [
    "dfn[\"airline_sentiment\"].value_counts()"
   ]
  },
  {
   "cell_type": "code",
   "execution_count": 108,
   "metadata": {},
   "outputs": [],
   "source": [
    "labels=dfn.airline_sentiment.factorize()"
   ]
  },
  {
   "cell_type": "code",
   "execution_count": 109,
   "metadata": {},
   "outputs": [
    {
     "data": {
      "text/plain": [
       "(array([0, 1, 1, ..., 0, 1, 1], dtype=int64),\n",
       " Index(['positive', 'negative'], dtype='object'))"
      ]
     },
     "execution_count": 109,
     "metadata": {},
     "output_type": "execute_result"
    }
   ],
   "source": [
    "labels"
   ]
  },
  {
   "cell_type": "code",
   "execution_count": 110,
   "metadata": {},
   "outputs": [],
   "source": [
    "tweet=dfn.text.values"
   ]
  },
  {
   "cell_type": "code",
   "execution_count": 111,
   "metadata": {},
   "outputs": [
    {
     "name": "stdout",
     "output_type": "stream",
     "text": [
      "Positive Tweets:\n",
      "              tweet_id airline_sentiment  airline_sentiment_confidence  \\\n",
      "1   570301130888122368          positive                        0.3486   \n",
      "6   570300616901320704          positive                        0.6745   \n",
      "8   570299953286942721          positive                        0.6559   \n",
      "9   570295459631263746          positive                        1.0000   \n",
      "11  570289724453216256          positive                        1.0000   \n",
      "\n",
      "   negativereason  negativereason_confidence         airline  \\\n",
      "1             NaN                        0.0  Virgin America   \n",
      "6             NaN                        0.0  Virgin America   \n",
      "8             NaN                        NaN  Virgin America   \n",
      "9             NaN                        NaN  Virgin America   \n",
      "11            NaN                        NaN  Virgin America   \n",
      "\n",
      "   airline_sentiment_gold          name negativereason_gold  retweet_count  \\\n",
      "1                     NaN      jnardino                 NaN              0   \n",
      "6                     NaN    cjmcginnis                 NaN              0   \n",
      "8                     NaN      dhepburn                 NaN              0   \n",
      "9                     NaN    YupitsTate                 NaN              0   \n",
      "11                    NaN  HyperCamiLax                 NaN              0   \n",
      "\n",
      "                                                 text tweet_coord  \\\n",
      "1   @VirginAmerica plus you've added commercials t...         NaN   \n",
      "6   @VirginAmerica yes, nearly every time I fly VX...         NaN   \n",
      "8     @virginamerica Well, I didn't…but NOW I DO! :-D         NaN   \n",
      "9   @VirginAmerica it was amazing, and arrived an ...         NaN   \n",
      "11  @VirginAmerica I &lt;3 pretty graphics. so muc...         NaN   \n",
      "\n",
      "                tweet_created    tweet_location               user_timezone  \n",
      "1   2015-02-24 11:15:59 -0800               NaN  Pacific Time (US & Canada)  \n",
      "6   2015-02-24 11:13:57 -0800  San Francisco CA  Pacific Time (US & Canada)  \n",
      "8   2015-02-24 11:11:19 -0800         San Diego  Pacific Time (US & Canada)  \n",
      "9   2015-02-24 10:53:27 -0800       Los Angeles  Eastern Time (US & Canada)  \n",
      "11  2015-02-24 10:30:40 -0800               NYC            America/New_York  \n",
      "\n",
      "Negative Tweets:\n",
      "              tweet_id airline_sentiment  airline_sentiment_confidence  \\\n",
      "3   570301031407624196          negative                        1.0000   \n",
      "4   570300817074462722          negative                        1.0000   \n",
      "5   570300767074181121          negative                        1.0000   \n",
      "15  570282469121007616          negative                        0.6842   \n",
      "17  570276917301137409          negative                        1.0000   \n",
      "\n",
      "   negativereason  negativereason_confidence         airline  \\\n",
      "3      Bad Flight                     0.7033  Virgin America   \n",
      "4      Can't Tell                     1.0000  Virgin America   \n",
      "5      Can't Tell                     0.6842  Virgin America   \n",
      "15    Late Flight                     0.3684  Virgin America   \n",
      "17     Bad Flight                     1.0000  Virgin America   \n",
      "\n",
      "   airline_sentiment_gold             name negativereason_gold  retweet_count  \\\n",
      "3                     NaN         jnardino                 NaN              0   \n",
      "4                     NaN         jnardino                 NaN              0   \n",
      "5                     NaN         jnardino                 NaN              0   \n",
      "15                    NaN  smartwatermelon                 NaN              0   \n",
      "17                    NaN    heatherovieda                 NaN              0   \n",
      "\n",
      "                                                 text tweet_coord  \\\n",
      "3   @VirginAmerica it's really aggressive to blast...         NaN   \n",
      "4   @VirginAmerica and it's a really big bad thing...         NaN   \n",
      "5   @VirginAmerica seriously would pay $30 a fligh...         NaN   \n",
      "15      @VirginAmerica SFO-PDX schedule is still MIA.         NaN   \n",
      "17  @VirginAmerica  I flew from NYC to SFO last we...         NaN   \n",
      "\n",
      "                tweet_created         tweet_location  \\\n",
      "3   2015-02-24 11:15:36 -0800                    NaN   \n",
      "4   2015-02-24 11:14:45 -0800                    NaN   \n",
      "5   2015-02-24 11:14:33 -0800                    NaN   \n",
      "15  2015-02-24 10:01:50 -0800          palo alto, ca   \n",
      "17  2015-02-24 09:39:46 -0800  this place called NYC   \n",
      "\n",
      "                 user_timezone  \n",
      "3   Pacific Time (US & Canada)  \n",
      "4   Pacific Time (US & Canada)  \n",
      "5   Pacific Time (US & Canada)  \n",
      "15  Pacific Time (US & Canada)  \n",
      "17  Eastern Time (US & Canada)  \n"
     ]
    }
   ],
   "source": [
    "\n",
    "# Filter positive tweets\n",
    "positive_tweets = df[df['airline_sentiment'] == 'positive']\n",
    "\n",
    "# Filter negative tweets\n",
    "negative_tweets = df[df['airline_sentiment'] == 'negative']\n",
    "\n",
    "# Display positive tweets\n",
    "print(\"Positive Tweets:\")\n",
    "print(positive_tweets.head())\n",
    "\n",
    "# Display negative tweets\n",
    "print(\"\\nNegative Tweets:\")\n",
    "print(negative_tweets.head())\n"
   ]
  },
  {
   "cell_type": "code",
   "execution_count": 112,
   "metadata": {},
   "outputs": [
    {
     "data": {
      "text/plain": [
       "array([\"@VirginAmerica plus you've added commercials to the experience... tacky.\",\n",
       "       '@VirginAmerica it\\'s really aggressive to blast obnoxious \"entertainment\" in your guests\\' faces &amp; they have little recourse',\n",
       "       \"@VirginAmerica and it's a really big bad thing about it\", ...,\n",
       "       '@AmericanAir thank you we got on a different flight to Chicago.',\n",
       "       \"@AmericanAir leaving over 20 minutes Late Flight. No warnings or communication until we were 15 minutes Late Flight. That's called shitty customer svc\",\n",
       "       \"@AmericanAir you have my money, you change my flight, and don't answer your phones! Any other suggestions so I can make my commitment??\"],\n",
       "      dtype=object)"
      ]
     },
     "execution_count": 112,
     "metadata": {},
     "output_type": "execute_result"
    }
   ],
   "source": [
    "tweet"
   ]
  },
  {
   "cell_type": "code",
   "execution_count": 113,
   "metadata": {},
   "outputs": [
    {
     "name": "stdout",
     "output_type": "stream",
     "text": [
      "Class Weights: {0: 2.4091858037578286, 1: 0.6309458720612356}\n"
     ]
    }
   ],
   "source": [
    "from sklearn.utils.class_weight import compute_class_weight\n",
    "import numpy as np\n",
    "\n",
    "# Compute class weights\n",
    "class_weights = compute_class_weight(class_weight='balanced', classes=np.unique(y_train), y=y_train)\n",
    "class_weights = dict(enumerate(class_weights))\n",
    "\n",
    "print(\"Class Weights:\", class_weights)\n"
   ]
  },
  {
   "cell_type": "code",
   "execution_count": 114,
   "metadata": {},
   "outputs": [
    {
     "name": "stdout",
     "output_type": "stream",
     "text": [
      "Defaulting to user installation because normal site-packages is not writeable\n",
      "Requirement already satisfied: tensorflow in c:\\users\\jeekay\\appdata\\roaming\\python\\python311\\site-packages (2.16.1)\n",
      "Requirement already satisfied: tensorflow-intel==2.16.1 in c:\\users\\jeekay\\appdata\\roaming\\python\\python311\\site-packages (from tensorflow) (2.16.1)\n",
      "Requirement already satisfied: absl-py>=1.0.0 in c:\\users\\jeekay\\appdata\\roaming\\python\\python311\\site-packages (from tensorflow-intel==2.16.1->tensorflow) (2.1.0)\n",
      "Requirement already satisfied: astunparse>=1.6.0 in c:\\users\\jeekay\\appdata\\roaming\\python\\python311\\site-packages (from tensorflow-intel==2.16.1->tensorflow) (1.6.3)\n",
      "Requirement already satisfied: flatbuffers>=23.5.26 in c:\\users\\jeekay\\appdata\\roaming\\python\\python311\\site-packages (from tensorflow-intel==2.16.1->tensorflow) (24.3.7)\n",
      "Requirement already satisfied: gast!=0.5.0,!=0.5.1,!=0.5.2,>=0.2.1 in c:\\users\\jeekay\\appdata\\roaming\\python\\python311\\site-packages (from tensorflow-intel==2.16.1->tensorflow) (0.5.4)\n",
      "Requirement already satisfied: google-pasta>=0.1.1 in c:\\users\\jeekay\\appdata\\roaming\\python\\python311\\site-packages (from tensorflow-intel==2.16.1->tensorflow) (0.2.0)\n",
      "Requirement already satisfied: h5py>=3.10.0 in c:\\users\\jeekay\\appdata\\roaming\\python\\python311\\site-packages (from tensorflow-intel==2.16.1->tensorflow) (3.10.0)\n",
      "Requirement already satisfied: libclang>=13.0.0 in c:\\users\\jeekay\\appdata\\roaming\\python\\python311\\site-packages (from tensorflow-intel==2.16.1->tensorflow) (16.0.6)\n",
      "Requirement already satisfied: ml-dtypes~=0.3.1 in c:\\users\\jeekay\\appdata\\roaming\\python\\python311\\site-packages (from tensorflow-intel==2.16.1->tensorflow) (0.3.2)\n",
      "Requirement already satisfied: opt-einsum>=2.3.2 in c:\\users\\jeekay\\appdata\\roaming\\python\\python311\\site-packages (from tensorflow-intel==2.16.1->tensorflow) (3.3.0)\n",
      "Requirement already satisfied: packaging in c:\\users\\jeekay\\appdata\\roaming\\python\\python311\\site-packages (from tensorflow-intel==2.16.1->tensorflow) (23.1)\n",
      "Requirement already satisfied: protobuf!=4.21.0,!=4.21.1,!=4.21.2,!=4.21.3,!=4.21.4,!=4.21.5,<5.0.0dev,>=3.20.3 in c:\\users\\jeekay\\appdata\\roaming\\python\\python311\\site-packages (from tensorflow-intel==2.16.1->tensorflow) (4.25.3)\n",
      "Requirement already satisfied: requests<3,>=2.21.0 in c:\\users\\jeekay\\appdata\\roaming\\python\\python311\\site-packages (from tensorflow-intel==2.16.1->tensorflow) (2.30.0)\n",
      "Requirement already satisfied: setuptools in c:\\users\\jeekay\\appdata\\roaming\\python\\python311\\site-packages (from tensorflow-intel==2.16.1->tensorflow) (75.1.0)\n",
      "Requirement already satisfied: six>=1.12.0 in c:\\users\\jeekay\\appdata\\roaming\\python\\python311\\site-packages (from tensorflow-intel==2.16.1->tensorflow) (1.13.0)\n",
      "Requirement already satisfied: termcolor>=1.1.0 in c:\\users\\jeekay\\appdata\\roaming\\python\\python311\\site-packages (from tensorflow-intel==2.16.1->tensorflow) (2.4.0)\n",
      "Requirement already satisfied: typing-extensions>=3.6.6 in c:\\users\\jeekay\\appdata\\roaming\\python\\python311\\site-packages (from tensorflow-intel==2.16.1->tensorflow) (4.7.1)\n",
      "Requirement already satisfied: wrapt>=1.11.0 in c:\\users\\jeekay\\appdata\\roaming\\python\\python311\\site-packages (from tensorflow-intel==2.16.1->tensorflow) (1.16.0)\n",
      "Requirement already satisfied: grpcio<2.0,>=1.24.3 in c:\\users\\jeekay\\appdata\\roaming\\python\\python311\\site-packages (from tensorflow-intel==2.16.1->tensorflow) (1.62.1)\n",
      "Requirement already satisfied: tensorboard<2.17,>=2.16 in c:\\users\\jeekay\\appdata\\roaming\\python\\python311\\site-packages (from tensorflow-intel==2.16.1->tensorflow) (2.16.2)\n",
      "Requirement already satisfied: keras>=3.0.0 in c:\\users\\jeekay\\appdata\\roaming\\python\\python311\\site-packages (from tensorflow-intel==2.16.1->tensorflow) (3.0.5)\n",
      "Requirement already satisfied: tensorflow-io-gcs-filesystem>=0.23.1 in c:\\users\\jeekay\\appdata\\roaming\\python\\python311\\site-packages (from tensorflow-intel==2.16.1->tensorflow) (0.31.0)\n",
      "Requirement already satisfied: numpy<2.0.0,>=1.23.5 in c:\\users\\jeekay\\appdata\\roaming\\python\\python311\\site-packages (from tensorflow-intel==2.16.1->tensorflow) (1.26.4)\n",
      "Requirement already satisfied: wheel<1.0,>=0.23.0 in c:\\users\\jeekay\\appdata\\roaming\\python\\python311\\site-packages (from astunparse>=1.6.0->tensorflow-intel==2.16.1->tensorflow) (0.44.0)\n",
      "Requirement already satisfied: rich in c:\\users\\jeekay\\appdata\\roaming\\python\\python311\\site-packages (from keras>=3.0.0->tensorflow-intel==2.16.1->tensorflow) (13.7.1)\n",
      "Requirement already satisfied: namex in c:\\users\\jeekay\\appdata\\roaming\\python\\python311\\site-packages (from keras>=3.0.0->tensorflow-intel==2.16.1->tensorflow) (0.0.7)\n",
      "Requirement already satisfied: dm-tree in c:\\users\\jeekay\\appdata\\roaming\\python\\python311\\site-packages (from keras>=3.0.0->tensorflow-intel==2.16.1->tensorflow) (0.1.8)\n",
      "Requirement already satisfied: charset-normalizer<4,>=2 in c:\\users\\jeekay\\appdata\\roaming\\python\\python311\\site-packages (from requests<3,>=2.21.0->tensorflow-intel==2.16.1->tensorflow) (3.1.0)\n",
      "Requirement already satisfied: idna<4,>=2.5 in c:\\users\\jeekay\\appdata\\roaming\\python\\python311\\site-packages (from requests<3,>=2.21.0->tensorflow-intel==2.16.1->tensorflow) (3.4)\n",
      "Requirement already satisfied: urllib3<3,>=1.21.1 in c:\\users\\jeekay\\appdata\\roaming\\python\\python311\\site-packages (from requests<3,>=2.21.0->tensorflow-intel==2.16.1->tensorflow) (1.26.16)\n",
      "Requirement already satisfied: certifi>=2017.4.17 in c:\\users\\jeekay\\appdata\\roaming\\python\\python311\\site-packages (from requests<3,>=2.21.0->tensorflow-intel==2.16.1->tensorflow) (2022.12.7)\n",
      "Requirement already satisfied: markdown>=2.6.8 in c:\\users\\jeekay\\appdata\\roaming\\python\\python311\\site-packages (from tensorboard<2.17,>=2.16->tensorflow-intel==2.16.1->tensorflow) (3.6)\n",
      "Requirement already satisfied: tensorboard-data-server<0.8.0,>=0.7.0 in c:\\users\\jeekay\\appdata\\roaming\\python\\python311\\site-packages (from tensorboard<2.17,>=2.16->tensorflow-intel==2.16.1->tensorflow) (0.7.2)\n",
      "Requirement already satisfied: werkzeug>=1.0.1 in c:\\users\\jeekay\\appdata\\roaming\\python\\python311\\site-packages (from tensorboard<2.17,>=2.16->tensorflow-intel==2.16.1->tensorflow) (3.1.3)\n",
      "Requirement already satisfied: MarkupSafe>=2.1.1 in c:\\users\\jeekay\\appdata\\roaming\\python\\python311\\site-packages (from werkzeug>=1.0.1->tensorboard<2.17,>=2.16->tensorflow-intel==2.16.1->tensorflow) (3.0.2)\n",
      "Requirement already satisfied: markdown-it-py>=2.2.0 in c:\\users\\jeekay\\appdata\\roaming\\python\\python311\\site-packages (from rich->keras>=3.0.0->tensorflow-intel==2.16.1->tensorflow) (3.0.0)\n",
      "Requirement already satisfied: pygments<3.0.0,>=2.13.0 in c:\\users\\jeekay\\appdata\\roaming\\python\\python311\\site-packages (from rich->keras>=3.0.0->tensorflow-intel==2.16.1->tensorflow) (2.15.1)\n",
      "Requirement already satisfied: mdurl~=0.1 in c:\\users\\jeekay\\appdata\\roaming\\python\\python311\\site-packages (from markdown-it-py>=2.2.0->rich->keras>=3.0.0->tensorflow-intel==2.16.1->tensorflow) (0.1.2)\n",
      "Note: you may need to restart the kernel to use updated packages.\n"
     ]
    },
    {
     "name": "stderr",
     "output_type": "stream",
     "text": [
      "\n",
      "[notice] A new release of pip is available: 24.2 -> 25.1.1\n",
      "[notice] To update, run: python.exe -m pip install --upgrade pip\n"
     ]
    }
   ],
   "source": [
    "pip install tensorflow"
   ]
  },
  {
   "cell_type": "code",
   "execution_count": 115,
   "metadata": {},
   "outputs": [
    {
     "name": "stdout",
     "output_type": "stream",
     "text": [
      "Defaulting to user installation because normal site-packages is not writeable\n",
      "Requirement already satisfied: numpy in c:\\users\\jeekay\\appdata\\roaming\\python\\python311\\site-packages (1.26.4)\n",
      "Collecting numpy\n",
      "  Downloading numpy-2.3.1-cp311-cp311-win_amd64.whl.metadata (60 kB)\n",
      "Downloading numpy-2.3.1-cp311-cp311-win_amd64.whl (13.0 MB)\n",
      "   ---------------------------------------- 0.0/13.0 MB ? eta -:--:--\n",
      "   --- ------------------------------------ 1.0/13.0 MB 7.2 MB/s eta 0:00:02\n",
      "   ------- -------------------------------- 2.4/13.0 MB 6.1 MB/s eta 0:00:02\n",
      "   --------- ------------------------------ 3.1/13.0 MB 5.6 MB/s eta 0:00:02\n",
      "   ------------ --------------------------- 4.2/13.0 MB 5.4 MB/s eta 0:00:02\n",
      "   ---------------- ----------------------- 5.2/13.0 MB 5.2 MB/s eta 0:00:02\n",
      "   ------------------- -------------------- 6.3/13.0 MB 5.1 MB/s eta 0:00:02\n",
      "   --------------------- ------------------ 7.1/13.0 MB 5.0 MB/s eta 0:00:02\n",
      "   ------------------------ --------------- 8.1/13.0 MB 5.0 MB/s eta 0:00:01\n",
      "   ---------------------------- ----------- 9.2/13.0 MB 4.9 MB/s eta 0:00:01\n",
      "   ------------------------------ --------- 10.0/13.0 MB 4.9 MB/s eta 0:00:01\n",
      "   --------------------------------- ------ 11.0/13.0 MB 4.9 MB/s eta 0:00:01\n",
      "   ------------------------------------- -- 12.1/13.0 MB 4.9 MB/s eta 0:00:01\n",
      "   ---------------------------------------- 13.0/13.0 MB 4.8 MB/s eta 0:00:00\n",
      "Installing collected packages: numpy\n",
      "  Attempting uninstall: numpy\n",
      "    Found existing installation: numpy 1.26.4\n",
      "    Uninstalling numpy-1.26.4:\n",
      "      Successfully uninstalled numpy-1.26.4\n",
      "Successfully installed numpy-2.3.1\n",
      "Note: you may need to restart the kernel to use updated packages.\n"
     ]
    },
    {
     "name": "stderr",
     "output_type": "stream",
     "text": [
      "ERROR: pip's dependency resolver does not currently take into account all the packages that are installed. This behaviour is the source of the following dependency conflicts.\n",
      "contourpy 1.2.0 requires numpy<2.0,>=1.20, but you have numpy 2.3.1 which is incompatible.\n",
      "matplotlib 3.8.1 requires numpy<2,>=1.21, but you have numpy 2.3.1 which is incompatible.\n",
      "scikit-learn 1.3.2 requires numpy<2.0,>=1.17.3, but you have numpy 2.3.1 which is incompatible.\n",
      "scipy 1.11.3 requires numpy<1.28.0,>=1.21.6, but you have numpy 2.3.1 which is incompatible.\n",
      "tensorflow-intel 2.16.1 requires numpy<2.0.0,>=1.23.5; python_version <= \"3.11\", but you have numpy 2.3.1 which is incompatible.\n",
      "\n",
      "[notice] A new release of pip is available: 24.2 -> 25.1.1\n",
      "[notice] To update, run: python.exe -m pip install --upgrade pip\n"
     ]
    }
   ],
   "source": [
    "pip install numpy --upgrade"
   ]
  },
  {
   "cell_type": "code",
   "execution_count": 116,
   "metadata": {},
   "outputs": [],
   "source": [
    "from tensorflow import keras\n",
    "from keras.models import Model\n",
    "from keras.layers import Dense\n",
    "from tensorflow.keras.preprocessing.text import Tokenizer\n",
    "\n",
    "tokenizer = Tokenizer(num_words=5000)\n",
    "\n",
    "tokenizer.fit_on_texts(tweet)"
   ]
  },
  {
   "cell_type": "code",
   "execution_count": 117,
   "metadata": {},
   "outputs": [],
   "source": [
    "encoded_docs = tokenizer.texts_to_sequences(tweet)"
   ]
  },
  {
   "cell_type": "code",
   "execution_count": 118,
   "metadata": {},
   "outputs": [],
   "source": [
    "from tensorflow.keras.preprocessing.sequence import pad_sequences\n",
    "\n",
    "padded_sequence = pad_sequences(encoded_docs, maxlen=200)"
   ]
  },
  {
   "cell_type": "code",
   "execution_count": 119,
   "metadata": {},
   "outputs": [
    {
     "name": "stdout",
     "output_type": "stream",
     "text": [
      "Defaulting to user installation because normal site-packages is not writeable\n",
      "Requirement already satisfied: transformers in c:\\users\\jeekay\\appdata\\roaming\\python\\python311\\site-packages (4.38.2)\n",
      "Requirement already satisfied: filelock in c:\\users\\jeekay\\appdata\\roaming\\python\\python311\\site-packages (from transformers) (3.12.0)\n",
      "Requirement already satisfied: huggingface-hub<1.0,>=0.19.3 in c:\\users\\jeekay\\appdata\\roaming\\python\\python311\\site-packages (from transformers) (0.21.4)\n",
      "Requirement already satisfied: numpy>=1.17 in c:\\users\\jeekay\\appdata\\roaming\\python\\python311\\site-packages (from transformers) (2.3.1)\n",
      "Requirement already satisfied: packaging>=20.0 in c:\\users\\jeekay\\appdata\\roaming\\python\\python311\\site-packages (from transformers) (23.1)\n",
      "Requirement already satisfied: pyyaml>=5.1 in c:\\users\\jeekay\\appdata\\roaming\\python\\python311\\site-packages (from transformers) (6.0.1)\n",
      "Requirement already satisfied: regex!=2019.12.17 in c:\\users\\jeekay\\appdata\\roaming\\python\\python311\\site-packages (from transformers) (2023.12.25)\n",
      "Requirement already satisfied: requests in c:\\users\\jeekay\\appdata\\roaming\\python\\python311\\site-packages (from transformers) (2.30.0)\n",
      "Requirement already satisfied: tokenizers<0.19,>=0.14 in c:\\users\\jeekay\\appdata\\roaming\\python\\python311\\site-packages (from transformers) (0.15.2)\n",
      "Requirement already satisfied: safetensors>=0.4.1 in c:\\users\\jeekay\\appdata\\roaming\\python\\python311\\site-packages (from transformers) (0.4.2)\n",
      "Requirement already satisfied: tqdm>=4.27 in c:\\users\\jeekay\\appdata\\roaming\\python\\python311\\site-packages (from transformers) (4.66.2)\n",
      "Requirement already satisfied: fsspec>=2023.5.0 in c:\\users\\jeekay\\appdata\\roaming\\python\\python311\\site-packages (from huggingface-hub<1.0,>=0.19.3->transformers) (2024.2.0)\n",
      "Requirement already satisfied: typing-extensions>=3.7.4.3 in c:\\users\\jeekay\\appdata\\roaming\\python\\python311\\site-packages (from huggingface-hub<1.0,>=0.19.3->transformers) (4.7.1)\n",
      "Requirement already satisfied: colorama in c:\\users\\jeekay\\appdata\\roaming\\python\\python311\\site-packages (from tqdm>=4.27->transformers) (0.4.6)\n",
      "Requirement already satisfied: charset-normalizer<4,>=2 in c:\\users\\jeekay\\appdata\\roaming\\python\\python311\\site-packages (from requests->transformers) (3.1.0)\n",
      "Requirement already satisfied: idna<4,>=2.5 in c:\\users\\jeekay\\appdata\\roaming\\python\\python311\\site-packages (from requests->transformers) (3.4)\n",
      "Requirement already satisfied: urllib3<3,>=1.21.1 in c:\\users\\jeekay\\appdata\\roaming\\python\\python311\\site-packages (from requests->transformers) (1.26.16)\n",
      "Requirement already satisfied: certifi>=2017.4.17 in c:\\users\\jeekay\\appdata\\roaming\\python\\python311\\site-packages (from requests->transformers) (2022.12.7)\n",
      "Note: you may need to restart the kernel to use updated packages.\n"
     ]
    },
    {
     "name": "stderr",
     "output_type": "stream",
     "text": [
      "\n",
      "[notice] A new release of pip is available: 24.2 -> 25.1.1\n",
      "[notice] To update, run: python.exe -m pip install --upgrade pip\n"
     ]
    }
   ],
   "source": [
    "pip install transformers\n"
   ]
  },
  {
   "cell_type": "code",
   "execution_count": 120,
   "metadata": {},
   "outputs": [
    {
     "name": "stderr",
     "output_type": "stream",
     "text": [
      "All model checkpoint layers were used when initializing TFRobertaForSequenceClassification.\n",
      "\n",
      "All the layers of TFRobertaForSequenceClassification were initialized from the model checkpoint at siebert/sentiment-roberta-large-english.\n",
      "If your task is similar to the task the model of the checkpoint was trained on, you can already use TFRobertaForSequenceClassification for predictions without further training.\n"
     ]
    }
   ],
   "source": [
    "# Use a pipeline as a high-level helper\n",
    "from transformers import pipeline\n",
    "\n",
    "pipe = pipeline(\"text-classification\", model=\"siebert/sentiment-roberta-large-english\")"
   ]
  },
  {
   "cell_type": "code",
   "execution_count": 121,
   "metadata": {},
   "outputs": [
    {
     "name": "stdout",
     "output_type": "stream",
     "text": [
      "[{'label': 'POSITIVE', 'score': 0.9979816675186157}]\n"
     ]
    }
   ],
   "source": [
    "print(pipe(\"hello there!!\"))"
   ]
  },
  {
   "cell_type": "code",
   "execution_count": 122,
   "metadata": {},
   "outputs": [
    {
     "name": "stdout",
     "output_type": "stream",
     "text": [
      "[{'label': 'NEGATIVE', 'score': 0.9994588494300842}]\n"
     ]
    }
   ],
   "source": [
    "print(pipe(\"Very bad!!\"))"
   ]
  },
  {
   "cell_type": "code",
   "execution_count": 123,
   "metadata": {},
   "outputs": [],
   "source": [
    "from sklearn.model_selection import train_test_split\n",
    "from keras.layers import Embedding, LSTM, Bidirectional, Conv1D, MaxPooling1D, Dense, Dropout, GlobalMaxPooling1D\n",
    "from keras.callbacks import ModelCheckpoint"
   ]
  },
  {
   "cell_type": "code",
   "execution_count": 124,
   "metadata": {},
   "outputs": [],
   "source": [
    "X_train, X_test, y_train, y_test = train_test_split(padded_sequence, labels[0], test_size=0.2, random_state=42)"
   ]
  },
  {
   "cell_type": "code",
   "execution_count": 125,
   "metadata": {},
   "outputs": [],
   "source": [
    "from tensorflow.keras.models import Sequential\n",
    "from tensorflow.keras.layers import Embedding, Conv1D, MaxPooling1D, GlobalMaxPooling1D, Dense\n"
   ]
  },
  {
   "cell_type": "code",
   "execution_count": 126,
   "metadata": {},
   "outputs": [],
   "source": [
    "from keras.callbacks import EarlyStopping, ModelCheckpoint\n",
    "#Build CNN Model\n",
    "cnn_model = Sequential()\n",
    "cnn_model.add(Embedding(input_dim=5000, output_dim=16))\n",
    "cnn_model.add(Conv1D(filters=8, kernel_size=3, activation='relu'))\n",
    "cnn_model.add(MaxPooling1D(pool_size=2))\n",
    "cnn_model.add(GlobalMaxPooling1D())\n",
    "cnn_model.add(Dense(16, activation='relu'))\n",
    "cnn_model.add(Dropout(0.5))  # Increase dropout rate\n",
    "cnn_model.add(Dense(1, activation='sigmoid'))"
   ]
  },
  {
   "cell_type": "code",
   "execution_count": 127,
   "metadata": {},
   "outputs": [],
   "source": [
    "optimizer = keras.optimizers.Adam(learning_rate=0.0001)\n",
    "cnn_model.compile(loss='binary_crossentropy', optimizer=optimizer, metrics=['accuracy'])"
   ]
  },
  {
   "cell_type": "code",
   "execution_count": 128,
   "metadata": {},
   "outputs": [],
   "source": [
    "model_checkpoint = ModelCheckpoint('best_model.keras', monitor='val_loss', save_best_only=True)"
   ]
  },
  {
   "cell_type": "code",
   "execution_count": 129,
   "metadata": {},
   "outputs": [
    {
     "name": "stdout",
     "output_type": "stream",
     "text": [
      "Epoch 1/10\n",
      "\u001b[1m289/289\u001b[0m \u001b[32m━━━━━━━━━━━━━━━━━━━━\u001b[0m\u001b[37m\u001b[0m \u001b[1m5s\u001b[0m 9ms/step - accuracy: 0.7448 - loss: 0.6675 - val_accuracy: 0.8064 - val_loss: 0.5771\n",
      "Epoch 2/10\n",
      "\u001b[1m289/289\u001b[0m \u001b[32m━━━━━━━━━━━━━━━━━━━━\u001b[0m\u001b[37m\u001b[0m \u001b[1m2s\u001b[0m 8ms/step - accuracy: 0.7896 - loss: 0.5613 - val_accuracy: 0.8064 - val_loss: 0.4916\n",
      "Epoch 3/10\n",
      "\u001b[1m289/289\u001b[0m \u001b[32m━━━━━━━━━━━━━━━━━━━━\u001b[0m\u001b[37m\u001b[0m \u001b[1m2s\u001b[0m 7ms/step - accuracy: 0.7998 - loss: 0.5049 - val_accuracy: 0.8064 - val_loss: 0.4758\n",
      "Epoch 4/10\n",
      "\u001b[1m289/289\u001b[0m \u001b[32m━━━━━━━━━━━━━━━━━━━━\u001b[0m\u001b[37m\u001b[0m \u001b[1m2s\u001b[0m 8ms/step - accuracy: 0.7956 - loss: 0.4953 - val_accuracy: 0.8064 - val_loss: 0.4602\n",
      "Epoch 5/10\n",
      "\u001b[1m289/289\u001b[0m \u001b[32m━━━━━━━━━━━━━━━━━━━━\u001b[0m\u001b[37m\u001b[0m \u001b[1m3s\u001b[0m 9ms/step - accuracy: 0.7892 - loss: 0.4871 - val_accuracy: 0.8064 - val_loss: 0.4394\n",
      "Epoch 6/10\n",
      "\u001b[1m289/289\u001b[0m \u001b[32m━━━━━━━━━━━━━━━━━━━━\u001b[0m\u001b[37m\u001b[0m \u001b[1m3s\u001b[0m 9ms/step - accuracy: 0.7956 - loss: 0.4557 - val_accuracy: 0.8064 - val_loss: 0.4129\n",
      "Epoch 7/10\n",
      "\u001b[1m289/289\u001b[0m \u001b[32m━━━━━━━━━━━━━━━━━━━━\u001b[0m\u001b[37m\u001b[0m \u001b[1m2s\u001b[0m 8ms/step - accuracy: 0.8099 - loss: 0.4272 - val_accuracy: 0.8224 - val_loss: 0.3867\n",
      "Epoch 8/10\n",
      "\u001b[1m289/289\u001b[0m \u001b[32m━━━━━━━━━━━━━━━━━━━━\u001b[0m\u001b[37m\u001b[0m \u001b[1m2s\u001b[0m 8ms/step - accuracy: 0.8165 - loss: 0.3999 - val_accuracy: 0.8532 - val_loss: 0.3634\n",
      "Epoch 9/10\n",
      "\u001b[1m289/289\u001b[0m \u001b[32m━━━━━━━━━━━━━━━━━━━━\u001b[0m\u001b[37m\u001b[0m \u001b[1m3s\u001b[0m 9ms/step - accuracy: 0.8394 - loss: 0.3603 - val_accuracy: 0.8636 - val_loss: 0.3430\n",
      "Epoch 10/10\n",
      "\u001b[1m289/289\u001b[0m \u001b[32m━━━━━━━━━━━━━━━━━━━━\u001b[0m\u001b[37m\u001b[0m \u001b[1m3s\u001b[0m 9ms/step - accuracy: 0.8485 - loss: 0.3483 - val_accuracy: 0.8701 - val_loss: 0.3260\n"
     ]
    }
   ],
   "source": [
    "history = cnn_model.fit(X_train, y_train, epochs=10, batch_size=32, validation_data=(X_test, y_test), verbose=1, validation_split=0.2, callbacks=[EarlyStopping(monitor='val_loss', patience=2), model_checkpoint])"
   ]
  },
  {
   "cell_type": "code",
   "execution_count": 130,
   "metadata": {},
   "outputs": [
    {
     "name": "stdout",
     "output_type": "stream",
     "text": [
      "CNN Test Accuracy: 0.8700736165046692\n"
     ]
    }
   ],
   "source": [
    "cnn_scores = cnn_model.evaluate(X_test, y_test, verbose=0)\n",
    "print(\"CNN Test Accuracy:\", cnn_scores[1])"
   ]
  },
  {
   "cell_type": "code",
   "execution_count": 131,
   "metadata": {},
   "outputs": [],
   "source": [
    "# Build LSTM Model\n",
    "lstm_model = Sequential()\n",
    "lstm_model.add(Embedding(input_dim=5000, output_dim=64))\n",
    "lstm_model.add(Bidirectional(LSTM(64, return_sequences=True)))\n",
    "lstm_model.add(GlobalMaxPooling1D())\n",
    "lstm_model.add(Dense(64, activation='relu'))\n",
    "lstm_model.add(Dense(1, activation='sigmoid'))"
   ]
  },
  {
   "cell_type": "code",
   "execution_count": 132,
   "metadata": {},
   "outputs": [],
   "source": [
    "lstm_model.compile(loss='binary_crossentropy', optimizer='adam', metrics=['accuracy'])"
   ]
  },
  {
   "cell_type": "code",
   "execution_count": 133,
   "metadata": {},
   "outputs": [
    {
     "name": "stdout",
     "output_type": "stream",
     "text": [
      "Epoch 1/10\n",
      "\u001b[1m145/145\u001b[0m \u001b[32m━━━━━━━━━━━━━━━━━━━━\u001b[0m\u001b[37m\u001b[0m \u001b[1m55s\u001b[0m 339ms/step - accuracy: 0.8192 - loss: 0.4681 - val_accuracy: 0.9199 - val_loss: 0.2202\n",
      "Epoch 2/10\n",
      "\u001b[1m145/145\u001b[0m \u001b[32m━━━━━━━━━━━━━━━━━━━━\u001b[0m\u001b[37m\u001b[0m \u001b[1m37s\u001b[0m 258ms/step - accuracy: 0.9395 - loss: 0.1518 - val_accuracy: 0.9233 - val_loss: 0.2090\n",
      "Epoch 3/10\n",
      "\u001b[1m145/145\u001b[0m \u001b[32m━━━━━━━━━━━━━━━━━━━━\u001b[0m\u001b[37m\u001b[0m \u001b[1m46s\u001b[0m 319ms/step - accuracy: 0.9643 - loss: 0.0987 - val_accuracy: 0.9246 - val_loss: 0.2332\n",
      "Epoch 4/10\n",
      "\u001b[1m145/145\u001b[0m \u001b[32m━━━━━━━━━━━━━━━━━━━━\u001b[0m\u001b[37m\u001b[0m \u001b[1m37s\u001b[0m 252ms/step - accuracy: 0.9783 - loss: 0.0684 - val_accuracy: 0.9203 - val_loss: 0.2839\n",
      "Epoch 5/10\n",
      "\u001b[1m145/145\u001b[0m \u001b[32m━━━━━━━━━━━━━━━━━━━━\u001b[0m\u001b[37m\u001b[0m \u001b[1m33s\u001b[0m 228ms/step - accuracy: 0.9850 - loss: 0.0436 - val_accuracy: 0.9212 - val_loss: 0.3142\n",
      "Epoch 6/10\n",
      "\u001b[1m145/145\u001b[0m \u001b[32m━━━━━━━━━━━━━━━━━━━━\u001b[0m\u001b[37m\u001b[0m \u001b[1m33s\u001b[0m 226ms/step - accuracy: 0.9899 - loss: 0.0354 - val_accuracy: 0.9164 - val_loss: 0.3505\n",
      "Epoch 7/10\n",
      "\u001b[1m145/145\u001b[0m \u001b[32m━━━━━━━━━━━━━━━━━━━━\u001b[0m\u001b[37m\u001b[0m \u001b[1m33s\u001b[0m 227ms/step - accuracy: 0.9903 - loss: 0.0302 - val_accuracy: 0.9173 - val_loss: 0.3728\n",
      "Epoch 8/10\n",
      "\u001b[1m145/145\u001b[0m \u001b[32m━━━━━━━━━━━━━━━━━━━━\u001b[0m\u001b[37m\u001b[0m \u001b[1m39s\u001b[0m 268ms/step - accuracy: 0.9953 - loss: 0.0153 - val_accuracy: 0.9155 - val_loss: 0.4538\n",
      "Epoch 9/10\n",
      "\u001b[1m145/145\u001b[0m \u001b[32m━━━━━━━━━━━━━━━━━━━━\u001b[0m\u001b[37m\u001b[0m \u001b[1m47s\u001b[0m 324ms/step - accuracy: 0.9917 - loss: 0.0220 - val_accuracy: 0.9112 - val_loss: 0.4647\n",
      "Epoch 10/10\n",
      "\u001b[1m145/145\u001b[0m \u001b[32m━━━━━━━━━━━━━━━━━━━━\u001b[0m\u001b[37m\u001b[0m \u001b[1m45s\u001b[0m 312ms/step - accuracy: 0.9970 - loss: 0.0107 - val_accuracy: 0.9142 - val_loss: 0.4671\n"
     ]
    },
    {
     "data": {
      "text/plain": [
       "<keras.src.callbacks.history.History at 0x1f48ea9d310>"
      ]
     },
     "execution_count": 133,
     "metadata": {},
     "output_type": "execute_result"
    }
   ],
   "source": [
    "lstm_model.fit(X_train, y_train, epochs=10, batch_size=64, validation_data=(X_test, y_test))"
   ]
  },
  {
   "cell_type": "code",
   "execution_count": 134,
   "metadata": {},
   "outputs": [
    {
     "name": "stdout",
     "output_type": "stream",
     "text": [
      "LSTM Test Accuracy: 0.9142485857009888\n"
     ]
    }
   ],
   "source": [
    "lstm_scores = lstm_model.evaluate(X_test, y_test, verbose=0)\n",
    "print(\"LSTM Test Accuracy:\", lstm_scores[1])"
   ]
  },
  {
   "cell_type": "code",
   "execution_count": 135,
   "metadata": {},
   "outputs": [],
   "source": [
    "from tensorflow.keras.layers import Bidirectional\n",
    "from keras.callbacks import EarlyStopping, ModelCheckpoint\n"
   ]
  },
  {
   "cell_type": "code",
   "execution_count": 136,
   "metadata": {},
   "outputs": [],
   "source": [
    "# Build BiLSTM Model\n",
    "bilstm_model = Sequential()\n",
    "bilstm_model.add(Embedding(input_dim=5000, output_dim=32))\n",
    "bilstm_model.add(Bidirectional(LSTM(32, return_sequences=True)))\n",
    "bilstm_model.add(GlobalMaxPooling1D())\n",
    "bilstm_model.add(Dense(32, activation='relu'))\n",
    "bilstm_model.add(Dense(1, activation='sigmoid'))"
   ]
  },
  {
   "cell_type": "code",
   "execution_count": 137,
   "metadata": {},
   "outputs": [],
   "source": [
    "bilstm_model.compile(loss='binary_crossentropy', optimizer='adam', metrics=['accuracy'])"
   ]
  },
  {
   "cell_type": "code",
   "execution_count": 138,
   "metadata": {},
   "outputs": [
    {
     "name": "stdout",
     "output_type": "stream",
     "text": [
      "Epoch 1/10\n",
      "\u001b[1m289/289\u001b[0m \u001b[32m━━━━━━━━━━━━━━━━━━━━\u001b[0m\u001b[37m\u001b[0m \u001b[1m52s\u001b[0m 157ms/step - accuracy: 0.8118 - loss: 0.4699 - val_accuracy: 0.9251 - val_loss: 0.2138\n",
      "Epoch 2/10\n",
      "\u001b[1m289/289\u001b[0m \u001b[32m━━━━━━━━━━━━━━━━━━━━\u001b[0m\u001b[37m\u001b[0m \u001b[1m41s\u001b[0m 141ms/step - accuracy: 0.9393 - loss: 0.1641 - val_accuracy: 0.9233 - val_loss: 0.2081\n",
      "Epoch 3/10\n",
      "\u001b[1m289/289\u001b[0m \u001b[32m━━━━━━━━━━━━━━━━━━━━\u001b[0m\u001b[37m\u001b[0m \u001b[1m41s\u001b[0m 143ms/step - accuracy: 0.9681 - loss: 0.0919 - val_accuracy: 0.9194 - val_loss: 0.2140\n",
      "Epoch 4/10\n",
      "\u001b[1m289/289\u001b[0m \u001b[32m━━━━━━━━━━━━━━━━━━━━\u001b[0m\u001b[37m\u001b[0m \u001b[1m43s\u001b[0m 147ms/step - accuracy: 0.9767 - loss: 0.0705 - val_accuracy: 0.9199 - val_loss: 0.2515\n",
      "Epoch 5/10\n",
      "\u001b[1m289/289\u001b[0m \u001b[32m━━━━━━━━━━━━━━━━━━━━\u001b[0m\u001b[37m\u001b[0m \u001b[1m48s\u001b[0m 165ms/step - accuracy: 0.9886 - loss: 0.0417 - val_accuracy: 0.9194 - val_loss: 0.2945\n",
      "Epoch 6/10\n",
      "\u001b[1m289/289\u001b[0m \u001b[32m━━━━━━━━━━━━━━━━━━━━\u001b[0m\u001b[37m\u001b[0m \u001b[1m46s\u001b[0m 158ms/step - accuracy: 0.9849 - loss: 0.0442 - val_accuracy: 0.9151 - val_loss: 0.3306\n",
      "Epoch 7/10\n",
      "\u001b[1m289/289\u001b[0m \u001b[32m━━━━━━━━━━━━━━━━━━━━\u001b[0m\u001b[37m\u001b[0m \u001b[1m51s\u001b[0m 175ms/step - accuracy: 0.9930 - loss: 0.0228 - val_accuracy: 0.9060 - val_loss: 0.3378\n",
      "Epoch 8/10\n",
      "\u001b[1m289/289\u001b[0m \u001b[32m━━━━━━━━━━━━━━━━━━━━\u001b[0m\u001b[37m\u001b[0m \u001b[1m48s\u001b[0m 165ms/step - accuracy: 0.9929 - loss: 0.0215 - val_accuracy: 0.9112 - val_loss: 0.4339\n",
      "Epoch 9/10\n",
      "\u001b[1m289/289\u001b[0m \u001b[32m━━━━━━━━━━━━━━━━━━━━\u001b[0m\u001b[37m\u001b[0m \u001b[1m50s\u001b[0m 172ms/step - accuracy: 0.9920 - loss: 0.0259 - val_accuracy: 0.9216 - val_loss: 0.3928\n",
      "Epoch 10/10\n",
      "\u001b[1m289/289\u001b[0m \u001b[32m━━━━━━━━━━━━━━━━━━━━\u001b[0m\u001b[37m\u001b[0m \u001b[1m46s\u001b[0m 161ms/step - accuracy: 0.9969 - loss: 0.0112 - val_accuracy: 0.9125 - val_loss: 0.4250\n"
     ]
    },
    {
     "data": {
      "text/plain": [
       "<keras.src.callbacks.history.History at 0x1f568e9ead0>"
      ]
     },
     "execution_count": 138,
     "metadata": {},
     "output_type": "execute_result"
    }
   ],
   "source": [
    "bilstm_model.fit(X_train, y_train, epochs=10, batch_size=32, validation_data=(X_test, y_test))"
   ]
  },
  {
   "cell_type": "code",
   "execution_count": 139,
   "metadata": {},
   "outputs": [
    {
     "name": "stdout",
     "output_type": "stream",
     "text": [
      "BiLSTM Test Accuracy: 0.9125162363052368\n"
     ]
    }
   ],
   "source": [
    "bilstm_scores = bilstm_model.evaluate(X_test, y_test, verbose=0)\n",
    "print(\"BiLSTM Test Accuracy:\", bilstm_scores[1])"
   ]
  },
  {
   "cell_type": "code",
   "execution_count": 140,
   "metadata": {},
   "outputs": [],
   "source": [
    "from tensorflow.keras import backend as K\n",
    "from tensorflow.keras.layers import Layer"
   ]
  },
  {
   "cell_type": "code",
   "execution_count": 141,
   "metadata": {},
   "outputs": [],
   "source": [
    "class AttentionLayer(Layer):\n",
    "    def __init__(self, **kwargs):\n",
    "        super(AttentionLayer, self).__init__(**kwargs)\n",
    "\n",
    "    def build(self, input_shape):\n",
    "        self.W = self.add_weight(name=\"att_weight\", shape=(input_shape[-1], 1), initializer=\"normal\")\n",
    "        self.b = self.add_weight(name=\"att_bias\", shape=(input_shape[1], 1), initializer=\"zeros\")\n",
    "        super(AttentionLayer, self).build(input_shape)\n",
    "\n",
    "    def call(self, x):\n",
    "        et = K.squeeze(K.tanh(K.dot(x, self.W) + self.b), axis=-1)\n",
    "        at = K.softmax(et)\n",
    "        at = K.expand_dims(at, axis=-1)\n",
    "        output = x * at\n",
    "        return K.sum(output, axis=1)\n",
    "\n",
    "    def compute_output_shape(self, input_shape):\n",
    "        return (input_shape[0], input_shape[-1])"
   ]
  },
  {
   "cell_type": "code",
   "execution_count": 142,
   "metadata": {},
   "outputs": [],
   "source": [
    "bilstm_attention_model = Sequential()\n",
    "bilstm_attention_model.add(Embedding(input_dim=5000, output_dim=64))\n",
    "bilstm_attention_model.add(Bidirectional(LSTM(64, return_sequences=True)))\n",
    "bilstm_attention_model.add(AttentionLayer())\n",
    "bilstm_attention_model.add(Dense(64, activation='relu'))\n",
    "bilstm_attention_model.add(Dense(1, activation='sigmoid'))"
   ]
  },
  {
   "cell_type": "code",
   "execution_count": 143,
   "metadata": {},
   "outputs": [],
   "source": [
    "bilstm_attention_model.compile(loss='binary_crossentropy', optimizer='adam', metrics=['accuracy'])"
   ]
  },
  {
   "cell_type": "code",
   "execution_count": 144,
   "metadata": {},
   "outputs": [
    {
     "name": "stdout",
     "output_type": "stream",
     "text": [
      "Epoch 1/10\n",
      "\u001b[1m145/145\u001b[0m \u001b[32m━━━━━━━━━━━━━━━━━━━━\u001b[0m\u001b[37m\u001b[0m \u001b[1m44s\u001b[0m 268ms/step - accuracy: 0.7699 - loss: 0.5334 - val_accuracy: 0.8064 - val_loss: 0.5022\n",
      "Epoch 2/10\n",
      "\u001b[1m145/145\u001b[0m \u001b[32m━━━━━━━━━━━━━━━━━━━━\u001b[0m\u001b[37m\u001b[0m \u001b[1m38s\u001b[0m 265ms/step - accuracy: 0.7867 - loss: 0.4962 - val_accuracy: 0.8064 - val_loss: 0.4327\n",
      "Epoch 3/10\n",
      "\u001b[1m145/145\u001b[0m \u001b[32m━━━━━━━━━━━━━━━━━━━━\u001b[0m\u001b[37m\u001b[0m \u001b[1m39s\u001b[0m 268ms/step - accuracy: 0.8075 - loss: 0.3759 - val_accuracy: 0.8930 - val_loss: 0.2734\n",
      "Epoch 4/10\n",
      "\u001b[1m145/145\u001b[0m \u001b[32m━━━━━━━━━━━━━━━━━━━━\u001b[0m\u001b[37m\u001b[0m \u001b[1m36s\u001b[0m 251ms/step - accuracy: 0.8702 - loss: 0.2931 - val_accuracy: 0.9164 - val_loss: 0.2255\n",
      "Epoch 5/10\n",
      "\u001b[1m145/145\u001b[0m \u001b[32m━━━━━━━━━━━━━━━━━━━━\u001b[0m\u001b[37m\u001b[0m \u001b[1m41s\u001b[0m 280ms/step - accuracy: 0.9458 - loss: 0.1381 - val_accuracy: 0.9251 - val_loss: 0.2309\n",
      "Epoch 6/10\n",
      "\u001b[1m145/145\u001b[0m \u001b[32m━━━━━━━━━━━━━━━━━━━━\u001b[0m\u001b[37m\u001b[0m \u001b[1m35s\u001b[0m 243ms/step - accuracy: 0.9650 - loss: 0.1010 - val_accuracy: 0.9138 - val_loss: 0.2499\n",
      "Epoch 7/10\n",
      "\u001b[1m145/145\u001b[0m \u001b[32m━━━━━━━━━━━━━━━━━━━━\u001b[0m\u001b[37m\u001b[0m \u001b[1m37s\u001b[0m 256ms/step - accuracy: 0.9727 - loss: 0.0779 - val_accuracy: 0.9147 - val_loss: 0.2553\n",
      "Epoch 8/10\n",
      "\u001b[1m145/145\u001b[0m \u001b[32m━━━━━━━━━━━━━━━━━━━━\u001b[0m\u001b[37m\u001b[0m \u001b[1m36s\u001b[0m 248ms/step - accuracy: 0.9833 - loss: 0.0525 - val_accuracy: 0.9086 - val_loss: 0.3078\n",
      "Epoch 9/10\n",
      "\u001b[1m145/145\u001b[0m \u001b[32m━━━━━━━━━━━━━━━━━━━━\u001b[0m\u001b[37m\u001b[0m \u001b[1m37s\u001b[0m 256ms/step - accuracy: 0.9865 - loss: 0.0429 - val_accuracy: 0.9173 - val_loss: 0.3186\n",
      "Epoch 10/10\n",
      "\u001b[1m145/145\u001b[0m \u001b[32m━━━━━━━━━━━━━━━━━━━━\u001b[0m\u001b[37m\u001b[0m \u001b[1m46s\u001b[0m 319ms/step - accuracy: 0.9911 - loss: 0.0302 - val_accuracy: 0.9160 - val_loss: 0.3805\n"
     ]
    },
    {
     "data": {
      "text/plain": [
       "<keras.src.callbacks.history.History at 0x1f5729edf50>"
      ]
     },
     "execution_count": 144,
     "metadata": {},
     "output_type": "execute_result"
    }
   ],
   "source": [
    "bilstm_attention_model.fit(X_train, y_train, epochs=10, batch_size=64, validation_data=(X_test, y_test))\n",
    "\n"
   ]
  },
  {
   "cell_type": "code",
   "execution_count": 145,
   "metadata": {},
   "outputs": [
    {
     "name": "stdout",
     "output_type": "stream",
     "text": [
      "BiLSTM with Attention Test Accuracy: 0.9159809350967407\n"
     ]
    }
   ],
   "source": [
    "# Evaluate BiLSTM Model with Attention\n",
    "bilstm_attention_scores = bilstm_attention_model.evaluate(X_test, y_test, verbose=0)\n",
    "print(\"BiLSTM with Attention Test Accuracy:\", bilstm_attention_scores[1])"
   ]
  },
  {
   "cell_type": "code",
   "execution_count": 146,
   "metadata": {},
   "outputs": [
    {
     "name": "stdout",
     "output_type": "stream",
     "text": [
      "Epoch 1/10\n",
      "\u001b[1m145/145\u001b[0m \u001b[32m━━━━━━━━━━━━━━━━━━━━\u001b[0m\u001b[37m\u001b[0m \u001b[1m1s\u001b[0m 8ms/step - accuracy: 0.8579 - loss: 0.3307 - val_accuracy: 0.8718 - val_loss: 0.3250\n",
      "Epoch 2/10\n",
      "\u001b[1m145/145\u001b[0m \u001b[32m━━━━━━━━━━━━━━━━━━━━\u001b[0m\u001b[37m\u001b[0m \u001b[1m1s\u001b[0m 7ms/step - accuracy: 0.8598 - loss: 0.3200 - val_accuracy: 0.8766 - val_loss: 0.3177\n",
      "Epoch 3/10\n",
      "\u001b[1m145/145\u001b[0m \u001b[32m━━━━━━━━━━━━━━━━━━━━\u001b[0m\u001b[37m\u001b[0m \u001b[1m1s\u001b[0m 8ms/step - accuracy: 0.8610 - loss: 0.3190 - val_accuracy: 0.8822 - val_loss: 0.3109\n",
      "Epoch 4/10\n",
      "\u001b[1m145/145\u001b[0m \u001b[32m━━━━━━━━━━━━━━━━━━━━\u001b[0m\u001b[37m\u001b[0m \u001b[1m1s\u001b[0m 7ms/step - accuracy: 0.8683 - loss: 0.3059 - val_accuracy: 0.8848 - val_loss: 0.3042\n",
      "Epoch 5/10\n",
      "\u001b[1m145/145\u001b[0m \u001b[32m━━━━━━━━━━━━━━━━━━━━\u001b[0m\u001b[37m\u001b[0m \u001b[1m1s\u001b[0m 7ms/step - accuracy: 0.8642 - loss: 0.2987 - val_accuracy: 0.8874 - val_loss: 0.2983\n",
      "Epoch 6/10\n",
      "\u001b[1m145/145\u001b[0m \u001b[32m━━━━━━━━━━━━━━━━━━━━\u001b[0m\u001b[37m\u001b[0m \u001b[1m1s\u001b[0m 6ms/step - accuracy: 0.8789 - loss: 0.2795 - val_accuracy: 0.8904 - val_loss: 0.2926\n",
      "Epoch 7/10\n",
      "\u001b[1m145/145\u001b[0m \u001b[32m━━━━━━━━━━━━━━━━━━━━\u001b[0m\u001b[37m\u001b[0m \u001b[1m1s\u001b[0m 6ms/step - accuracy: 0.8760 - loss: 0.2855 - val_accuracy: 0.8943 - val_loss: 0.2879\n",
      "Epoch 8/10\n",
      "\u001b[1m145/145\u001b[0m \u001b[32m━━━━━━━━━━━━━━━━━━━━\u001b[0m\u001b[37m\u001b[0m \u001b[1m1s\u001b[0m 6ms/step - accuracy: 0.8798 - loss: 0.2733 - val_accuracy: 0.8948 - val_loss: 0.2835\n",
      "Epoch 9/10\n",
      "\u001b[1m145/145\u001b[0m \u001b[32m━━━━━━━━━━━━━━━━━━━━\u001b[0m\u001b[37m\u001b[0m \u001b[1m1s\u001b[0m 6ms/step - accuracy: 0.8863 - loss: 0.2538 - val_accuracy: 0.9008 - val_loss: 0.2788\n",
      "Epoch 10/10\n",
      "\u001b[1m145/145\u001b[0m \u001b[32m━━━━━━━━━━━━━━━━━━━━\u001b[0m\u001b[37m\u001b[0m \u001b[1m1s\u001b[0m 7ms/step - accuracy: 0.8952 - loss: 0.2468 - val_accuracy: 0.9026 - val_loss: 0.2751\n",
      "Epoch 1/10\n",
      "\u001b[1m145/145\u001b[0m \u001b[32m━━━━━━━━━━━━━━━━━━━━\u001b[0m\u001b[37m\u001b[0m \u001b[1m26s\u001b[0m 176ms/step - accuracy: 0.9978 - loss: 0.0104 - val_accuracy: 0.9138 - val_loss: 0.4515\n",
      "Epoch 2/10\n",
      "\u001b[1m145/145\u001b[0m \u001b[32m━━━━━━━━━━━━━━━━━━━━\u001b[0m\u001b[37m\u001b[0m \u001b[1m26s\u001b[0m 177ms/step - accuracy: 0.9988 - loss: 0.0045 - val_accuracy: 0.9151 - val_loss: 0.5217\n",
      "Epoch 3/10\n",
      "\u001b[1m145/145\u001b[0m \u001b[32m━━━━━━━━━━━━━━━━━━━━\u001b[0m\u001b[37m\u001b[0m \u001b[1m27s\u001b[0m 183ms/step - accuracy: 0.9990 - loss: 0.0041 - val_accuracy: 0.9155 - val_loss: 0.5072\n",
      "Epoch 4/10\n",
      "\u001b[1m145/145\u001b[0m \u001b[32m━━━━━━━━━━━━━━━━━━━━\u001b[0m\u001b[37m\u001b[0m \u001b[1m26s\u001b[0m 182ms/step - accuracy: 0.9971 - loss: 0.0094 - val_accuracy: 0.9164 - val_loss: 0.5015\n",
      "Epoch 5/10\n",
      "\u001b[1m145/145\u001b[0m \u001b[32m━━━━━━━━━━━━━━━━━━━━\u001b[0m\u001b[37m\u001b[0m \u001b[1m25s\u001b[0m 170ms/step - accuracy: 0.9967 - loss: 0.0083 - val_accuracy: 0.9155 - val_loss: 0.4991\n",
      "Epoch 6/10\n",
      "\u001b[1m145/145\u001b[0m \u001b[32m━━━━━━━━━━━━━━━━━━━━\u001b[0m\u001b[37m\u001b[0m \u001b[1m26s\u001b[0m 178ms/step - accuracy: 0.9991 - loss: 0.0034 - val_accuracy: 0.9129 - val_loss: 0.5350\n",
      "Epoch 7/10\n",
      "\u001b[1m145/145\u001b[0m \u001b[32m━━━━━━━━━━━━━━━━━━━━\u001b[0m\u001b[37m\u001b[0m \u001b[1m25s\u001b[0m 172ms/step - accuracy: 0.9992 - loss: 0.0031 - val_accuracy: 0.9164 - val_loss: 0.6165\n",
      "Epoch 8/10\n",
      "\u001b[1m145/145\u001b[0m \u001b[32m━━━━━━━━━━━━━━━━━━━━\u001b[0m\u001b[37m\u001b[0m \u001b[1m24s\u001b[0m 163ms/step - accuracy: 0.9992 - loss: 0.0020 - val_accuracy: 0.9138 - val_loss: 0.6247\n",
      "Epoch 9/10\n",
      "\u001b[1m145/145\u001b[0m \u001b[32m━━━━━━━━━━━━━━━━━━━━\u001b[0m\u001b[37m\u001b[0m \u001b[1m27s\u001b[0m 187ms/step - accuracy: 0.9990 - loss: 0.0018 - val_accuracy: 0.9147 - val_loss: 0.6342\n",
      "Epoch 10/10\n",
      "\u001b[1m145/145\u001b[0m \u001b[32m━━━━━━━━━━━━━━━━━━━━\u001b[0m\u001b[37m\u001b[0m \u001b[1m26s\u001b[0m 181ms/step - accuracy: 0.9994 - loss: 0.0018 - val_accuracy: 0.9151 - val_loss: 0.6468\n"
     ]
    }
   ],
   "source": [
    "# Assuming you have trained your CNN model like this:\n",
    "cnn_history = cnn_model.fit(X_train, y_train, epochs=10, batch_size=64, validation_data=(X_test, y_test))\n",
    "\n",
    "# And your BiLSTM model like this:\n",
    "bilstm_history = bilstm_model.fit(X_train, y_train, epochs=10, batch_size=64, validation_data=(X_test, y_test))\n"
   ]
  },
  {
   "cell_type": "code",
   "execution_count": 147,
   "metadata": {},
   "outputs": [
    {
     "name": "stdout",
     "output_type": "stream",
     "text": [
      "Epoch 1/10\n",
      "\u001b[1m145/145\u001b[0m \u001b[32m━━━━━━━━━━━━━━━━━━━━\u001b[0m\u001b[37m\u001b[0m \u001b[1m1s\u001b[0m 6ms/step - accuracy: 0.8906 - loss: 0.2483 - val_accuracy: 0.9039 - val_loss: 0.2718\n",
      "Epoch 2/10\n",
      "\u001b[1m145/145\u001b[0m \u001b[32m━━━━━━━━━━━━━━━━━━━━\u001b[0m\u001b[37m\u001b[0m \u001b[1m1s\u001b[0m 6ms/step - accuracy: 0.8960 - loss: 0.2413 - val_accuracy: 0.9047 - val_loss: 0.2691\n",
      "Epoch 3/10\n",
      "\u001b[1m145/145\u001b[0m \u001b[32m━━━━━━━━━━━━━━━━━━━━\u001b[0m\u001b[37m\u001b[0m \u001b[1m1s\u001b[0m 6ms/step - accuracy: 0.8958 - loss: 0.2367 - val_accuracy: 0.9043 - val_loss: 0.2665\n",
      "Epoch 4/10\n",
      "\u001b[1m145/145\u001b[0m \u001b[32m━━━━━━━━━━━━━━━━━━━━\u001b[0m\u001b[37m\u001b[0m \u001b[1m1s\u001b[0m 9ms/step - accuracy: 0.8999 - loss: 0.2234 - val_accuracy: 0.9052 - val_loss: 0.2633\n",
      "Epoch 5/10\n",
      "\u001b[1m145/145\u001b[0m \u001b[32m━━━━━━━━━━━━━━━━━━━━\u001b[0m\u001b[37m\u001b[0m \u001b[1m1s\u001b[0m 8ms/step - accuracy: 0.9010 - loss: 0.2272 - val_accuracy: 0.9060 - val_loss: 0.2622\n",
      "Epoch 6/10\n",
      "\u001b[1m145/145\u001b[0m \u001b[32m━━━━━━━━━━━━━━━━━━━━\u001b[0m\u001b[37m\u001b[0m \u001b[1m1s\u001b[0m 10ms/step - accuracy: 0.9036 - loss: 0.2116 - val_accuracy: 0.9065 - val_loss: 0.2598\n",
      "Epoch 7/10\n",
      "\u001b[1m145/145\u001b[0m \u001b[32m━━━━━━━━━━━━━━━━━━━━\u001b[0m\u001b[37m\u001b[0m \u001b[1m1s\u001b[0m 7ms/step - accuracy: 0.9102 - loss: 0.2154 - val_accuracy: 0.9073 - val_loss: 0.2586\n",
      "Epoch 8/10\n",
      "\u001b[1m145/145\u001b[0m \u001b[32m━━━━━━━━━━━━━━━━━━━━\u001b[0m\u001b[37m\u001b[0m \u001b[1m1s\u001b[0m 7ms/step - accuracy: 0.9149 - loss: 0.2068 - val_accuracy: 0.9091 - val_loss: 0.2574\n",
      "Epoch 9/10\n",
      "\u001b[1m145/145\u001b[0m \u001b[32m━━━━━━━━━━━━━━━━━━━━\u001b[0m\u001b[37m\u001b[0m \u001b[1m1s\u001b[0m 8ms/step - accuracy: 0.9189 - loss: 0.1979 - val_accuracy: 0.9108 - val_loss: 0.2557\n",
      "Epoch 10/10\n",
      "\u001b[1m145/145\u001b[0m \u001b[32m━━━━━━━━━━━━━━━━━━━━\u001b[0m\u001b[37m\u001b[0m \u001b[1m1s\u001b[0m 9ms/step - accuracy: 0.9241 - loss: 0.1894 - val_accuracy: 0.9108 - val_loss: 0.2554\n",
      "Epoch 1/10\n",
      "\u001b[1m145/145\u001b[0m \u001b[32m━━━━━━━━━━━━━━━━━━━━\u001b[0m\u001b[37m\u001b[0m \u001b[1m24s\u001b[0m 163ms/step - accuracy: 0.9995 - loss: 0.0011 - val_accuracy: 0.9121 - val_loss: 0.6479\n",
      "Epoch 2/10\n",
      "\u001b[1m145/145\u001b[0m \u001b[32m━━━━━━━━━━━━━━━━━━━━\u001b[0m\u001b[37m\u001b[0m \u001b[1m23s\u001b[0m 161ms/step - accuracy: 0.9992 - loss: 0.0018 - val_accuracy: 0.9151 - val_loss: 0.6661\n",
      "Epoch 3/10\n",
      "\u001b[1m145/145\u001b[0m \u001b[32m━━━━━━━━━━━━━━━━━━━━\u001b[0m\u001b[37m\u001b[0m \u001b[1m24s\u001b[0m 163ms/step - accuracy: 0.9987 - loss: 0.0019 - val_accuracy: 0.9091 - val_loss: 0.6497\n",
      "Epoch 4/10\n",
      "\u001b[1m145/145\u001b[0m \u001b[32m━━━━━━━━━━━━━━━━━━━━\u001b[0m\u001b[37m\u001b[0m \u001b[1m23s\u001b[0m 156ms/step - accuracy: 0.9992 - loss: 0.0023 - val_accuracy: 0.9125 - val_loss: 0.6518\n",
      "Epoch 5/10\n",
      "\u001b[1m145/145\u001b[0m \u001b[32m━━━━━━━━━━━━━━━━━━━━\u001b[0m\u001b[37m\u001b[0m \u001b[1m26s\u001b[0m 182ms/step - accuracy: 0.9990 - loss: 0.0023 - val_accuracy: 0.9147 - val_loss: 0.6935\n",
      "Epoch 6/10\n",
      "\u001b[1m145/145\u001b[0m \u001b[32m━━━━━━━━━━━━━━━━━━━━\u001b[0m\u001b[37m\u001b[0m \u001b[1m27s\u001b[0m 184ms/step - accuracy: 0.9993 - loss: 0.0014 - val_accuracy: 0.9151 - val_loss: 0.7230\n",
      "Epoch 7/10\n",
      "\u001b[1m145/145\u001b[0m \u001b[32m━━━━━━━━━━━━━━━━━━━━\u001b[0m\u001b[37m\u001b[0m \u001b[1m24s\u001b[0m 164ms/step - accuracy: 0.9993 - loss: 0.0013 - val_accuracy: 0.9121 - val_loss: 0.7017\n",
      "Epoch 8/10\n",
      "\u001b[1m145/145\u001b[0m \u001b[32m━━━━━━━━━━━━━━━━━━━━\u001b[0m\u001b[37m\u001b[0m \u001b[1m21s\u001b[0m 145ms/step - accuracy: 0.9992 - loss: 0.0016 - val_accuracy: 0.9125 - val_loss: 0.7220\n",
      "Epoch 9/10\n",
      "\u001b[1m145/145\u001b[0m \u001b[32m━━━━━━━━━━━━━━━━━━━━\u001b[0m\u001b[37m\u001b[0m \u001b[1m30s\u001b[0m 209ms/step - accuracy: 0.9990 - loss: 0.0019 - val_accuracy: 0.9129 - val_loss: 0.6780\n",
      "Epoch 10/10\n",
      "\u001b[1m145/145\u001b[0m \u001b[32m━━━━━━━━━━━━━━━━━━━━\u001b[0m\u001b[37m\u001b[0m \u001b[1m26s\u001b[0m 181ms/step - accuracy: 0.9996 - loss: 8.0120e-04 - val_accuracy: 0.9121 - val_loss: 0.7285\n"
     ]
    }
   ],
   "source": [
    "# Define cnn_history and bilstm_history variables\n",
    "cnn_history = cnn_model.fit(X_train, y_train, epochs=10, batch_size=64, validation_data=(X_test, y_test))\n",
    "bilstm_history = bilstm_model.fit(X_train, y_train, epochs=10, batch_size=64, validation_data=(X_test, y_test))\n",
    "\n",
    "\n"
   ]
  },
  {
   "cell_type": "code",
   "execution_count": 148,
   "metadata": {},
   "outputs": [
    {
     "name": "stdout",
     "output_type": "stream",
     "text": [
      "Epoch 1/10\n",
      "\u001b[1m145/145\u001b[0m \u001b[32m━━━━━━━━━━━━━━━━━━━━\u001b[0m\u001b[37m\u001b[0m \u001b[1m37s\u001b[0m 256ms/step - accuracy: 0.9922 - loss: 0.0247 - val_accuracy: 0.9199 - val_loss: 0.4094\n",
      "Epoch 2/10\n",
      "\u001b[1m145/145\u001b[0m \u001b[32m━━━━━━━━━━━━━━━━━━━━\u001b[0m\u001b[37m\u001b[0m \u001b[1m37s\u001b[0m 251ms/step - accuracy: 0.9948 - loss: 0.0193 - val_accuracy: 0.9091 - val_loss: 0.4883\n",
      "Epoch 3/10\n",
      "\u001b[1m145/145\u001b[0m \u001b[32m━━━━━━━━━━━━━━━━━━━━\u001b[0m\u001b[37m\u001b[0m \u001b[1m49s\u001b[0m 339ms/step - accuracy: 0.9932 - loss: 0.0228 - val_accuracy: 0.8913 - val_loss: 0.4791\n",
      "Epoch 4/10\n",
      "\u001b[1m145/145\u001b[0m \u001b[32m━━━━━━━━━━━━━━━━━━━━\u001b[0m\u001b[37m\u001b[0m \u001b[1m39s\u001b[0m 270ms/step - accuracy: 0.9974 - loss: 0.0097 - val_accuracy: 0.9078 - val_loss: 0.5218\n",
      "Epoch 5/10\n",
      "\u001b[1m145/145\u001b[0m \u001b[32m━━━━━━━━━━━━━━━━━━━━\u001b[0m\u001b[37m\u001b[0m \u001b[1m44s\u001b[0m 302ms/step - accuracy: 0.9962 - loss: 0.0113 - val_accuracy: 0.9060 - val_loss: 0.5134\n",
      "Epoch 6/10\n",
      "\u001b[1m145/145\u001b[0m \u001b[32m━━━━━━━━━━━━━━━━━━━━\u001b[0m\u001b[37m\u001b[0m \u001b[1m40s\u001b[0m 273ms/step - accuracy: 0.9975 - loss: 0.0124 - val_accuracy: 0.9099 - val_loss: 0.5706\n",
      "Epoch 7/10\n",
      "\u001b[1m145/145\u001b[0m \u001b[32m━━━━━━━━━━━━━━━━━━━━\u001b[0m\u001b[37m\u001b[0m \u001b[1m43s\u001b[0m 294ms/step - accuracy: 0.9979 - loss: 0.0080 - val_accuracy: 0.9078 - val_loss: 0.5715\n",
      "Epoch 8/10\n",
      "\u001b[1m145/145\u001b[0m \u001b[32m━━━━━━━━━━━━━━━━━━━━\u001b[0m\u001b[37m\u001b[0m \u001b[1m41s\u001b[0m 285ms/step - accuracy: 0.9969 - loss: 0.0118 - val_accuracy: 0.9160 - val_loss: 0.5539\n",
      "Epoch 9/10\n",
      "\u001b[1m145/145\u001b[0m \u001b[32m━━━━━━━━━━━━━━━━━━━━\u001b[0m\u001b[37m\u001b[0m \u001b[1m42s\u001b[0m 286ms/step - accuracy: 0.9985 - loss: 0.0072 - val_accuracy: 0.9177 - val_loss: 0.6156\n",
      "Epoch 10/10\n",
      "\u001b[1m145/145\u001b[0m \u001b[32m━━━━━━━━━━━━━━━━━━━━\u001b[0m\u001b[37m\u001b[0m \u001b[1m39s\u001b[0m 267ms/step - accuracy: 0.9973 - loss: 0.0099 - val_accuracy: 0.9181 - val_loss: 0.6322\n"
     ]
    }
   ],
   "source": [
    "# Train the BiLSTM with Attention model\n",
    "bilstm_attention_history = bilstm_attention_model.fit(X_train, y_train, epochs=10, batch_size=64, validation_data=(X_test, y_test))\n",
    "\n",
    "# Store the training history\n",
    "bilstm_attention_train_accuracy = bilstm_attention_history.history['accuracy']\n",
    "bilstm_attention_train_loss = bilstm_attention_history.history['loss']\n"
   ]
  },
  {
   "cell_type": "code",
   "execution_count": 149,
   "metadata": {},
   "outputs": [
    {
     "data": {
      "image/png": "[encoded data removed]",
      "text/plain": [
       "<Figure size 1000x600 with 1 Axes>"
      ]
     },
     "metadata": {},
     "output_type": "display_data"
    },
    {
     "data": {
      "image/png": "[encoded data removed]",
      "text/plain": [
       "<Figure size 1000x600 with 1 Axes>"
      ]
     },
     "metadata": {},
     "output_type": "display_data"
    }
   ],
   "source": [
    "import numpy as np\n",
    "import matplotlib.pyplot as plt \n",
    "\n",
    "# Extract training accuracy and loss from the history object\n",
    "train_accuracy = bilstm_attention_history.history['accuracy']\n",
    "train_loss = bilstm_attention_history.history['loss']\n",
    "\n",
    "# Smooth the curves using a moving average\n",
    "window_size = 5  # Adjust window size as needed\n",
    "train_accuracy_smooth = np.convolve(train_accuracy, np.ones(window_size)/window_size, mode='valid')\n",
    "train_loss_smooth = np.convolve(train_loss, np.ones(window_size)/window_size, mode='valid')\n",
    "smoothed_epochs = range(1, len(train_accuracy_smooth) + 1)\n",
    "\n",
    "# Plot smoothed training accuracy\n",
    "plt.figure(figsize=(10, 6))\n",
    "plt.plot(smoothed_epochs, train_accuracy_smooth, 'b', label='Training Accuracy')\n",
    "plt.title('Training Accuracy')\n",
    "plt.xlabel('Epochs')\n",
    "plt.ylabel('Accuracy')\n",
    "plt.legend()\n",
    "plt.grid(True)\n",
    "plt.show()\n",
    "\n",
    "# Plot smoothed training loss\n",
    "plt.figure(figsize=(10, 6))\n",
    "plt.plot(smoothed_epochs, train_loss_smooth, 'r', label='Training Loss')\n",
    "plt.title('Training Loss')\n",
    "plt.xlabel('Epochs')\n",
    "plt.ylabel('Loss')\n",
    "plt.legend()\n",
    "plt.grid(True)\n",
    "plt.show()\n"
   ]
  },
  {
   "cell_type": "code",
   "execution_count": 150,
   "metadata": {},
   "outputs": [
    {
     "ename": "NameError",
     "evalue": "name 'val_accuracy' is not defined",
     "output_type": "error",
     "traceback": [
      "\u001b[1;31m---------------------------------------------------------------------------\u001b[0m",
      "\u001b[1;31mNameError\u001b[0m                                 Traceback (most recent call last)",
      "Cell \u001b[1;32mIn[150], line 13\u001b[0m\n\u001b[0;32m     10\u001b[0m window_size \u001b[38;5;241m=\u001b[39m \u001b[38;5;241m5\u001b[39m\n\u001b[0;32m     12\u001b[0m \u001b[38;5;66;03m# Smooth validation accuracy using moving average\u001b[39;00m\n\u001b[1;32m---> 13\u001b[0m smoothed_val_accuracy \u001b[38;5;241m=\u001b[39m moving_average(\u001b[43mval_accuracy\u001b[49m, window_size)\n\u001b[0;32m     15\u001b[0m \u001b[38;5;66;03m# Adjust epochs to match the smoothed data length\u001b[39;00m\n\u001b[0;32m     16\u001b[0m smoothed_epochs \u001b[38;5;241m=\u001b[39m \u001b[38;5;28mrange\u001b[39m(window_size \u001b[38;5;241m/\u001b[39m\u001b[38;5;241m/\u001b[39m \u001b[38;5;241m2\u001b[39m \u001b[38;5;241m+\u001b[39m \u001b[38;5;241m1\u001b[39m, \u001b[38;5;28mlen\u001b[39m(epochs) \u001b[38;5;241m-\u001b[39m window_size \u001b[38;5;241m/\u001b[39m\u001b[38;5;241m/\u001b[39m \u001b[38;5;241m2\u001b[39m \u001b[38;5;241m+\u001b[39m \u001b[38;5;241m1\u001b[39m)\n",
      "\u001b[1;31mNameError\u001b[0m: name 'val_accuracy' is not defined"
     ]
    }
   ],
   "source": [
    "import numpy as np\n",
    "import matplotlib.pyplot as plt\n",
    "\n",
    "# Function to calculate moving average\n",
    "def moving_average(data, window_size):\n",
    "    weights = np.repeat(1.0, window_size) / window_size\n",
    "    return np.convolve(data, weights, 'valid')\n",
    "\n",
    "# Define window size for moving average\n",
    "window_size = 5\n",
    "\n",
    "# Smooth validation accuracy using moving average\n",
    "smoothed_val_accuracy = moving_average(val_accuracy, window_size)\n",
    "\n",
    "# Adjust epochs to match the smoothed data length\n",
    "smoothed_epochs = range(window_size // 2 + 1, len(epochs) - window_size // 2 + 1)\n",
    "\n",
    "# Plot smoothed validation accuracy\n",
    "plt.figure(figsize=(10, 6))\n",
    "plt.plot(smoothed_epochs, smoothed_val_accuracy, 'b', label='Validation Accuracy')\n",
    "plt.title('Validation Accuracy')\n",
    "plt.xlabel('Epochs')\n",
    "plt.ylabel('Accuracy')\n",
    "plt.legend()\n",
    "plt.grid(True)\n",
    "plt.show()\n",
    "\n",
    "\n",
    "\n"
   ]
  },
  {
   "cell_type": "code",
   "execution_count": 62,
   "metadata": {},
   "outputs": [
    {
     "data": {
      "image/png": "[encoded data removed]",
      "text/plain": [
       "<Figure size 1000x600 with 1 Axes>"
      ]
     },
     "metadata": {},
     "output_type": "display_data"
    }
   ],
   "source": [
    "import matplotlib.pyplot as plt\n",
    "\n",
    "# Extract validation accuracy and loss from the history object\n",
    "val_accuracy = bilstm_attention_history.history['val_accuracy']\n",
    "val_loss = bilstm_attention_history.history['val_loss']\n",
    "\n",
    "# Create a range for epochs\n",
    "epochs = range(1, len(val_accuracy) + 1)\n",
    "\n",
    "# Plot validation loss\n",
    "plt.figure(figsize=(10, 6))\n",
    "plt.plot(epochs, val_loss, 'r', label='Validation Loss')\n",
    "plt.title('Validation Loss')\n",
    "plt.xlabel('Epochs')\n",
    "plt.ylabel('Loss')\n",
    "plt.gca().invert_yaxis()  # Invert the y-axis to make the line decreasing\n",
    "plt.legend()\n",
    "plt.grid(True)\n",
    "plt.show()\n"
   ]
  },
  {
   "cell_type": "code",
   "execution_count": 63,
   "metadata": {},
   "outputs": [
    {
     "data": {
      "image/png": "[encoded data removed]",
      "text/plain": [
       "<Figure size 1000x600 with 1 Axes>"
      ]
     },
     "metadata": {},
     "output_type": "display_data"
    }
   ],
   "source": [
    "import numpy as np\n",
    "import matplotlib.pyplot as plt\n",
    "\n",
    "# Model names\n",
    "models = ['CNN', 'LSTM', 'BILSTM', 'LCNN-ATT']\n",
    "\n",
    "# Your project's accuracy\n",
    "your_accuracy = [91.6, 91.5, 91.2, 91.9]\n",
    "\n",
    "# Accuracy from reference papers\n",
    "reference_accuracy = [88.4, 90.4, 80.2, 91.3]\n",
    "\n",
    "# Set the width of the bars\n",
    "bar_width = 0.35\n",
    "\n",
    "# Set the position of the bars on the x-axis\n",
    "r1 = np.arange(len(models))\n",
    "r2 = [x + bar_width for x in r1]\n",
    "\n",
    "# Plotting the grouped bar graph\n",
    "plt.figure(figsize=(10, 6))\n",
    "plt.bar(r1, your_accuracy, color='#1f77b4', width=bar_width, edgecolor='grey',label='LCNN-ATT')\n",
    "plt.bar(r2, reference_accuracy, color='#cd5c5c', width=bar_width, edgecolor='grey',label='Reference Papers')\n",
    "\n",
    "# Adding labels, title, and ticks\n",
    "plt.xlabel('Models', fontweight='bold')\n",
    "plt.ylabel('Accuracy (%)', fontweight='bold')\n",
    "plt.xticks([r + bar_width/2 for r in range(len(models))], models)\n",
    "plt.legend()\n",
    "\n",
    "# Display the plot\n",
    "plt.tight_layout()\n",
    "plt.show()\n"
   ]
  },
  {
   "cell_type": "code",
   "execution_count": 64,
   "metadata": {},
   "outputs": [
    {
     "data": {
      "image/png": "[encoded data removed]",
      "text/plain": [
       "<Figure size 1000x600 with 1 Axes>"
      ]
     },
     "metadata": {},
     "output_type": "display_data"
    }
   ],
   "source": [
    "import numpy as np\n",
    "import matplotlib.pyplot as plt\n",
    "\n",
    "# Model names\n",
    "models = ['CNN', 'LSTM', 'BILSTM', 'LCNN-ATT']\n",
    "\n",
    "# Training time in seconds\n",
    "training_time = [33.4, 250.7, 285.6, 324.3]  # in seconds\n",
    "\n",
    "# Convert training time to minutes for better readability\n",
    "training_time_minutes = [time / 60 for time in training_time]\n",
    "\n",
    "# Set the width of the bars\n",
    "bar_width = 0.35\n",
    "\n",
    "# Set the position of the bars on the x-axis\n",
    "r1 = np.arange(len(models))\n",
    "\n",
    "# Plotting\n",
    "plt.figure(figsize=(10, 6))\n",
    "plt.bar(r1, training_time_minutes, color='skyblue', width=bar_width, edgecolor='grey', label='Training Time (Minutes)')\n",
    "plt.xlabel('Models', fontweight='bold')\n",
    "plt.ylabel('Training Time (Minutes)', fontweight='bold')\n",
    "plt.xticks([r for r in range(len(models))], models)\n",
    "plt.legend()\n",
    "plt.grid(axis='y', linestyle='--', alpha=0.7)\n",
    "plt.tight_layout()\n",
    "plt.show()\n",
    "\n"
   ]
  },
  {
   "cell_type": "code",
   "execution_count": 151,
   "metadata": {},
   "outputs": [
    {
     "name": "stdout",
     "output_type": "stream",
     "text": [
      "\u001b[1m73/73\u001b[0m \u001b[32m━━━━━━━━━━━━━━━━━━━━\u001b[0m\u001b[37m\u001b[0m \u001b[1m0s\u001b[0m 5ms/step\n",
      "\u001b[1m73/73\u001b[0m \u001b[32m━━━━━━━━━━━━━━━━━━━━\u001b[0m\u001b[37m\u001b[0m \u001b[1m4s\u001b[0m 49ms/step\n",
      "\u001b[1m73/73\u001b[0m \u001b[32m━━━━━━━━━━━━━━━━━━━━\u001b[0m\u001b[37m\u001b[0m \u001b[1m3s\u001b[0m 39ms/step\n",
      "\u001b[1m73/73\u001b[0m \u001b[32m━━━━━━━━━━━━━━━━━━━━\u001b[0m\u001b[37m\u001b[0m \u001b[1m4s\u001b[0m 49ms/step\n"
     ]
    }
   ],
   "source": [
    "# Assuming you have trained models named cnn_model, lstm_model, bilstm_model, and bilstm_attention_model\n",
    "\n",
    "# CNN model prediction\n",
    "cnn_probabilities = cnn_model.predict(X_test)\n",
    "\n",
    "# LSTM model prediction\n",
    "lstm_probabilities = lstm_model.predict(X_test)\n",
    "\n",
    "# BiLSTM model prediction\n",
    "bilstm_probabilities = bilstm_model.predict(X_test)\n",
    "\n",
    "# BiLSTM + Attention model prediction\n",
    "bilstm_attention_probabilities = bilstm_attention_model.predict(X_test)\n"
   ]
  },
  {
   "cell_type": "code",
   "execution_count": 152,
   "metadata": {},
   "outputs": [],
   "source": [
    "# Assuming you have the true labels stored in a variable named y_test\n",
    "true_labels = y_test\n"
   ]
  },
  {
   "cell_type": "code",
   "execution_count": 153,
   "metadata": {},
   "outputs": [
    {
     "name": "stdout",
     "output_type": "stream",
     "text": [
      "             tweet_id airline_sentiment  airline_sentiment_confidence  \\\n",
      "0  570306133677760513           neutral                        1.0000   \n",
      "1  570301130888122368          positive                        0.3486   \n",
      "2  570301083672813571           neutral                        0.6837   \n",
      "3  570301031407624196          negative                        1.0000   \n",
      "4  570300817074462722          negative                        1.0000   \n",
      "\n",
      "  negativereason  negativereason_confidence         airline  \\\n",
      "0            NaN                        NaN  Virgin America   \n",
      "1            NaN                     0.0000  Virgin America   \n",
      "2            NaN                        NaN  Virgin America   \n",
      "3     Bad Flight                     0.7033  Virgin America   \n",
      "4     Can't Tell                     1.0000  Virgin America   \n",
      "\n",
      "  airline_sentiment_gold        name negativereason_gold  retweet_count  \\\n",
      "0                    NaN     cairdin                 NaN              0   \n",
      "1                    NaN    jnardino                 NaN              0   \n",
      "2                    NaN  yvonnalynn                 NaN              0   \n",
      "3                    NaN    jnardino                 NaN              0   \n",
      "4                    NaN    jnardino                 NaN              0   \n",
      "\n",
      "                                                text tweet_coord  \\\n",
      "0                @VirginAmerica What @dhepburn said.         NaN   \n",
      "1  @VirginAmerica plus you've added commercials t...         NaN   \n",
      "2  @VirginAmerica I didn't today... Must mean I n...         NaN   \n",
      "3  @VirginAmerica it's really aggressive to blast...         NaN   \n",
      "4  @VirginAmerica and it's a really big bad thing...         NaN   \n",
      "\n",
      "               tweet_created tweet_location               user_timezone  \n",
      "0  2015-02-24 11:35:52 -0800            NaN  Eastern Time (US & Canada)  \n",
      "1  2015-02-24 11:15:59 -0800            NaN  Pacific Time (US & Canada)  \n",
      "2  2015-02-24 11:15:48 -0800      Lets Play  Central Time (US & Canada)  \n",
      "3  2015-02-24 11:15:36 -0800            NaN  Pacific Time (US & Canada)  \n",
      "4  2015-02-24 11:14:45 -0800            NaN  Pacific Time (US & Canada)  \n"
     ]
    }
   ],
   "source": [
    "import pandas as pd\n",
    "\n",
    "# Assuming your dataset is in CSV format\n",
    "dataset_path = r\"D:\\majorproject\\twitter-chat-analysis\\Tweets.csv\"\n",
    "df = pd.read_csv(dataset_path)\n",
    "\n",
    "# Display the first few rows of the dataset to understand its structure\n",
    "print(df.head())\n"
   ]
  },
  {
   "cell_type": "code",
   "execution_count": 154,
   "metadata": {},
   "outputs": [
    {
     "name": "stdout",
     "output_type": "stream",
     "text": [
      "Index(['tweet_id', 'airline_sentiment', 'airline_sentiment_confidence',\n",
      "       'negativereason', 'negativereason_confidence', 'airline',\n",
      "       'airline_sentiment_gold', 'name', 'negativereason_gold',\n",
      "       'retweet_count', 'text', 'tweet_coord', 'tweet_created',\n",
      "       'tweet_location', 'user_timezone'],\n",
      "      dtype='object')\n",
      "['neutral' 'positive' 'negative']\n"
     ]
    }
   ],
   "source": [
    "# Display the column names in the dataset\n",
    "print(df.columns)\n",
    "\n",
    "# Once you identify the correct column name containing sentiment labels, you can access it\n",
    "# For example, if the column name is \"label\":\n",
    "sentiment_labels = df[\"airline_sentiment\"]\n",
    "\n",
    "# Display unique values to understand the label distribution\n",
    "print(sentiment_labels.unique())\n",
    "\n"
   ]
  },
  {
   "cell_type": "code",
   "execution_count": 155,
   "metadata": {},
   "outputs": [
    {
     "name": "stdout",
     "output_type": "stream",
     "text": [
      "0        1\n",
      "1        2\n",
      "2        1\n",
      "3        0\n",
      "4        0\n",
      "        ..\n",
      "14635    2\n",
      "14636    0\n",
      "14637    1\n",
      "14638    0\n",
      "14639    1\n",
      "Name: airline_sentiment, Length: 14640, dtype: int64\n"
     ]
    }
   ],
   "source": [
    "# Assuming you have three sentiment classes: \"positive\", \"negative\", and \"neutral\"\n",
    "# Convert labels to numerical encoding (e.g., 0 for negative, 1 for neutral, 2 for positive)\n",
    "sentiment_mapping = {\"negative\": 0, \"neutral\": 1, \"positive\": 2}\n",
    "numerical_labels = sentiment_labels.map(sentiment_mapping)\n",
    "\n",
    "# Display the numerical labels\n",
    "print(numerical_labels)\n"
   ]
  },
  {
   "cell_type": "code",
   "execution_count": 156,
   "metadata": {},
   "outputs": [],
   "source": [
    "# Store the true labels in a variable (change \"cnn\" to reflect the model name)\n",
    "true_labels_cnn = numerical_labels\n"
   ]
  },
  {
   "cell_type": "code",
   "execution_count": 157,
   "metadata": {},
   "outputs": [],
   "source": [
    "# Assuming your dataset is in CSV format\n",
    "dataset_path = r\"D:\\majorproject\\twitter-chat-analysis\\Tweets.csv\"\n",
    "df = pd.read_csv(dataset_path)\n",
    "\n",
    "# Assuming the column containing sentiment labels is named \"airline_sentiment\"\n",
    "sentiment_labels = df[\"airline_sentiment\"]\n",
    "\n",
    "# Assuming you have three sentiment classes: \"negative\", \"neutral\", and \"positive\"\n",
    "# Convert labels to numerical encoding (e.g., 0 for negative, 1 for neutral, 2 for positive)\n",
    "sentiment_mapping = {\"negative\": 0, \"neutral\": 1, \"positive\": 2}\n",
    "numerical_labels = sentiment_labels.map(sentiment_mapping)\n",
    "\n",
    "# Assigning true labels for LSTM model\n",
    "true_labels_lstm = numerical_labels\n"
   ]
  },
  {
   "cell_type": "code",
   "execution_count": 158,
   "metadata": {},
   "outputs": [],
   "source": [
    "# Assigning true labels for BiLSTM model\n",
    "true_labels_bilstm = numerical_labels\n"
   ]
  },
  {
   "cell_type": "code",
   "execution_count": 159,
   "metadata": {},
   "outputs": [],
   "source": [
    "# Assigning true labels for BiLSTM + Attention model\n",
    "true_labels_bilstm_attention = numerical_labels\n"
   ]
  },
  {
   "cell_type": "code",
   "execution_count": 160,
   "metadata": {},
   "outputs": [],
   "source": [
    "# Assuming you have the true labels for each model's predictions\n",
    "cnn_true_labels = ...\n",
    "lstm_true_labels = ...\n",
    "bilstm_true_labels = ...\n",
    "bilstm_attention_true_labels = ...\n",
    "\n"
   ]
  },
  {
   "cell_type": "code",
   "execution_count": 161,
   "metadata": {},
   "outputs": [
    {
     "name": "stdout",
     "output_type": "stream",
     "text": [
      "Shape of y_test: (2309,)\n",
      "Shape of probabilities: (2309, 1)\n"
     ]
    }
   ],
   "source": [
    "print(\"Shape of y_test:\", y_test.shape)\n",
    "print(\"Shape of probabilities:\", cnn_probabilities.shape)\n"
   ]
  },
  {
   "cell_type": "code",
   "execution_count": 162,
   "metadata": {},
   "outputs": [
    {
     "data": {
      "image/png": "[encoded data removed]",
      "text/plain": [
       "<Figure size 1000x600 with 1 Axes>"
      ]
     },
     "metadata": {},
     "output_type": "display_data"
    }
   ],
   "source": [
    "from sklearn.metrics import precision_recall_curve\n",
    "import matplotlib.pyplot as plt\n",
    "\n",
    "plt.figure(figsize=(10, 6))\n",
    "\n",
    "# Models and their predicted probabilities\n",
    "models = [\"CNN\", \"LSTM\", \"BiLSTM\", \"LCNN-ATT\"]\n",
    "probabilities = [cnn_probabilities, lstm_probabilities, bilstm_probabilities, bilstm_attention_probabilities]\n",
    "\n",
    "for model_name, probs in zip(models, probabilities):\n",
    "    precision, recall, _ = precision_recall_curve(true_labels, probs)\n",
    "    plt.plot(recall, precision, label=model_name)\n",
    "\n",
    "plt.xlabel('Recall',fontweight='bold')\n",
    "plt.ylabel('Precision',fontweight='bold')\n",
    "plt.title('Precision-Recall Curve for Each Model')\n",
    "plt.legend()\n",
    "plt.grid(True)\n",
    "plt.show()\n",
    "\n"
   ]
  },
  {
   "cell_type": "code",
   "execution_count": 70,
   "metadata": {},
   "outputs": [
    {
     "data": {
      "image/png": "[encoded data removed]",
      "text/plain": [
       "<Figure size 1000x600 with 1 Axes>"
      ]
     },
     "metadata": {},
     "output_type": "display_data"
    }
   ],
   "source": [
    "from sklearn.metrics import f1_score\n",
    "import matplotlib.pyplot as plt\n",
    "\n",
    "# Calculate F1-score for each model\n",
    "f1_scores = []\n",
    "for model_name, probs in zip(models, probabilities):\n",
    "    predictions = (probs > 0.5).astype(int)  # Convert probabilities to binary predictions\n",
    "    f1 = f1_score(true_labels, predictions)\n",
    "    f1_scores.append(f1)\n",
    "\n",
    "# Plot the F1-score graph\n",
    "plt.figure(figsize=(10, 6))\n",
    "plt.bar(models, f1_scores, color='skyblue')\n",
    "plt.xlabel('Models')\n",
    "plt.ylabel('F1-score')\n",
    "plt.title('F1-score for Each Model')\n",
    "plt.xticks(rotation=45)\n",
    "plt.grid(axis='y', linestyle='--', alpha=0.7)\n",
    "plt.tight_layout()\n",
    "plt.show()\n"
   ]
  },
  {
   "cell_type": "code",
   "execution_count": 71,
   "metadata": {},
   "outputs": [
    {
     "data": {
      "image/png": "[encoded data removed]",
      "text/plain": [
       "<Figure size 640x480 with 1 Axes>"
      ]
     },
     "metadata": {},
     "output_type": "display_data"
    }
   ],
   "source": [
    "import numpy as np\n",
    "import matplotlib.pyplot as plt\n",
    "\n",
    "# Define the models and evaluation metrics\n",
    "models = ['CNN', 'LSTM', 'BiLSTM', 'LCNN-ATT']\n",
    "metrics = ['Precision', 'Recall', 'Accuracy', 'F-score']\n",
    "\n",
    "# Define the scores for each model and metric\n",
    "# Update the scores dictionary with your actual scores\n",
    "scores = {\n",
    "    'CNN': {'Precision': 0.75, 'Recall': 0.80, 'Accuracy': 0.85, 'F-score': 0.78},\n",
    "    'LSTM': {'Precision': 0.70, 'Recall': 0.75, 'Accuracy': 0.80, 'F-score': 0.72},\n",
    "    'BiLSTM': {'Precision': 0.80, 'Recall': 0.85, 'Accuracy': 0.90, 'F-score': 0.82},\n",
    "    'LCNN-ATT': {'Precision': 0.85, 'Recall': 0.90, 'Accuracy': 0.95, 'F-score': 0.88}\n",
    "}\n",
    "\n",
    "# Define the colors for each metric\n",
    "colors = {'Precision': '#1f77b4', 'Recall': '#2ca02c', 'Accuracy': '#cd5c5c', 'F-score': '#cbcbcb'}\n",
    "\n",
    "# Plotting\n",
    "bar_width = 0.15\n",
    "index = np.arange(len(models))\n",
    "\n",
    "for i, metric in enumerate(metrics):\n",
    "    plt.bar(index + i * bar_width, [scores[model][metric] for model in models], bar_width, label=metric, color=colors[metric])\n",
    "\n",
    "plt.xlabel('Models',fontweight='bold')\n",
    "plt.ylabel('Scores',fontweight='bold')\n",
    "plt.xticks(index + 1.5 * bar_width, models)  # Adjusted x-axis labels position\n",
    "plt.legend()\n",
    "plt.tight_layout()\n",
    "plt.show()\n"
   ]
  },
  {
   "cell_type": "code",
   "execution_count": 163,
   "metadata": {},
   "outputs": [
    {
     "name": "stdout",
     "output_type": "stream",
     "text": [
      "Defaulting to user installation because normal site-packages is not writeable\n",
      "Requirement already satisfied: textblob in c:\\users\\jeekay\\appdata\\roaming\\python\\python311\\site-packages (0.18.0.post0)\n",
      "Requirement already satisfied: nltk>=3.8 in c:\\users\\jeekay\\appdata\\roaming\\python\\python311\\site-packages (from textblob) (3.8.1)\n",
      "Requirement already satisfied: click in c:\\users\\jeekay\\appdata\\roaming\\python\\python311\\site-packages (from nltk>=3.8->textblob) (8.1.8)\n",
      "Requirement already satisfied: joblib in c:\\users\\jeekay\\appdata\\roaming\\python\\python311\\site-packages (from nltk>=3.8->textblob) (1.3.2)\n",
      "Requirement already satisfied: regex>=2021.8.3 in c:\\users\\jeekay\\appdata\\roaming\\python\\python311\\site-packages (from nltk>=3.8->textblob) (2023.12.25)\n",
      "Requirement already satisfied: tqdm in c:\\users\\jeekay\\appdata\\roaming\\python\\python311\\site-packages (from nltk>=3.8->textblob) (4.66.2)\n",
      "Requirement already satisfied: colorama in c:\\users\\jeekay\\appdata\\roaming\\python\\python311\\site-packages (from click->nltk>=3.8->textblob) (0.4.6)\n",
      "Note: you may need to restart the kernel to use updated packages.\n"
     ]
    },
    {
     "name": "stderr",
     "output_type": "stream",
     "text": [
      "\n",
      "[notice] A new release of pip is available: 24.2 -> 25.1.1\n",
      "[notice] To update, run: python.exe -m pip install --upgrade pip\n"
     ]
    }
   ],
   "source": [
    "pip install textblob\n"
   ]
  },
  {
   "cell_type": "code",
   "execution_count": 164,
   "metadata": {},
   "outputs": [
    {
     "name": "stdout",
     "output_type": "stream",
     "text": [
      "Defaulting to user installation because normal site-packages is not writeable\n",
      "Requirement already satisfied: seaborn in c:\\users\\jeekay\\appdata\\roaming\\python\\python311\\site-packages (0.13.2)\n",
      "Requirement already satisfied: numpy!=1.24.0,>=1.20 in c:\\users\\jeekay\\appdata\\roaming\\python\\python311\\site-packages (from seaborn) (2.3.1)\n",
      "Requirement already satisfied: pandas>=1.2 in c:\\users\\jeekay\\appdata\\roaming\\python\\python311\\site-packages (from seaborn) (2.0.3)\n",
      "Requirement already satisfied: matplotlib!=3.6.1,>=3.4 in c:\\users\\jeekay\\appdata\\roaming\\python\\python311\\site-packages (from seaborn) (3.8.1)\n",
      "Requirement already satisfied: contourpy>=1.0.1 in c:\\users\\jeekay\\appdata\\roaming\\python\\python311\\site-packages (from matplotlib!=3.6.1,>=3.4->seaborn) (1.2.0)\n",
      "Requirement already satisfied: cycler>=0.10 in c:\\users\\jeekay\\appdata\\roaming\\python\\python311\\site-packages (from matplotlib!=3.6.1,>=3.4->seaborn) (0.12.1)\n",
      "Requirement already satisfied: fonttools>=4.22.0 in c:\\users\\jeekay\\appdata\\roaming\\python\\python311\\site-packages (from matplotlib!=3.6.1,>=3.4->seaborn) (4.44.0)\n",
      "Requirement already satisfied: kiwisolver>=1.3.1 in c:\\users\\jeekay\\appdata\\roaming\\python\\python311\\site-packages (from matplotlib!=3.6.1,>=3.4->seaborn) (1.4.5)\n",
      "Collecting numpy!=1.24.0,>=1.20 (from seaborn)\n",
      "  Using cached numpy-1.26.4-cp311-cp311-win_amd64.whl.metadata (61 kB)\n",
      "Requirement already satisfied: packaging>=20.0 in c:\\users\\jeekay\\appdata\\roaming\\python\\python311\\site-packages (from matplotlib!=3.6.1,>=3.4->seaborn) (23.1)\n",
      "Requirement already satisfied: pillow>=8 in c:\\users\\jeekay\\appdata\\roaming\\python\\python311\\site-packages (from matplotlib!=3.6.1,>=3.4->seaborn) (9.5.0)\n",
      "Requirement already satisfied: pyparsing>=2.3.1 in c:\\users\\jeekay\\appdata\\roaming\\python\\python311\\site-packages (from matplotlib!=3.6.1,>=3.4->seaborn) (3.1.1)\n",
      "Requirement already satisfied: python-dateutil>=2.7 in c:\\users\\jeekay\\appdata\\roaming\\python\\python311\\site-packages (from matplotlib!=3.6.1,>=3.4->seaborn) (2.8.2)\n",
      "Requirement already satisfied: pytz>=2020.1 in c:\\users\\jeekay\\appdata\\roaming\\python\\python311\\site-packages (from pandas>=1.2->seaborn) (2023.3)\n",
      "Requirement already satisfied: tzdata>=2022.1 in c:\\users\\jeekay\\appdata\\roaming\\python\\python311\\site-packages (from pandas>=1.2->seaborn) (2023.3)\n",
      "Requirement already satisfied: six>=1.5 in c:\\users\\jeekay\\appdata\\roaming\\python\\python311\\site-packages (from python-dateutil>=2.7->matplotlib!=3.6.1,>=3.4->seaborn) (1.13.0)\n",
      "Using cached numpy-1.26.4-cp311-cp311-win_amd64.whl (15.8 MB)\n",
      "Installing collected packages: numpy\n",
      "  Attempting uninstall: numpy\n",
      "    Found existing installation: numpy 2.3.1\n",
      "    Uninstalling numpy-2.3.1:\n",
      "      Successfully uninstalled numpy-2.3.1\n",
      "Successfully installed numpy-1.26.4\n",
      "Note: you may need to restart the kernel to use updated packages.\n"
     ]
    },
    {
     "name": "stderr",
     "output_type": "stream",
     "text": [
      "\n",
      "[notice] A new release of pip is available: 24.2 -> 25.1.1\n",
      "[notice] To update, run: python.exe -m pip install --upgrade pip\n"
     ]
    }
   ],
   "source": [
    "pip install seaborn"
   ]
  },
  {
   "cell_type": "code",
   "execution_count": 165,
   "metadata": {},
   "outputs": [
    {
     "data": {
      "image/png": "[encoded data removed]",
      "text/plain": [
       "<Figure size 640x480 with 1 Axes>"
      ]
     },
     "metadata": {},
     "output_type": "display_data"
    },
    {
     "data": {
      "image/png": "[encoded data removed]",
      "text/plain": [
       "<Figure size 640x480 with 1 Axes>"
      ]
     },
     "metadata": {},
     "output_type": "display_data"
    }
   ],
   "source": [
    "from textblob import TextBlob\n",
    "import seaborn as sns\n",
    "import matplotlib.pyplot as plt\n",
    "import numpy as np\n",
    "\n",
    "# Input: Tweet Text\n",
    "tweets = [\"very happy\", \"poor\", \"satisfied\", \n",
    "          \"astonished\", \"Excellent\"]\n",
    "\n",
    "# Sentiment Analysis\n",
    "sentiments = []\n",
    "for tweet in tweets:\n",
    "    analysis = TextBlob(tweet)\n",
    "    if analysis.sentiment.polarity > 0:\n",
    "        sentiments.append(\"Positive\")\n",
    "    elif analysis.sentiment.polarity < 0:\n",
    "        sentiments.append(\"Negative\")\n",
    "    else:\n",
    "        sentiments.append(\"Neutral\")\n",
    "\n",
    "# User Engagement Metrics (Example data)\n",
    "retweets = [100, 50, 20, 30, 40]\n",
    "likes = [200, 100, 50, 60, 70]\n",
    "replies = [50, 30, 10, 20, 25]\n",
    "\n",
    "# Output: Sentiment Distribution Plot\n",
    "sns.countplot(sentiments)\n",
    "plt.title('Sentiment Distribution')\n",
    "plt.xlabel('Sentiment')\n",
    "plt.ylabel('Count')\n",
    "plt.show()\n",
    "\n",
    "# Output: User Engagement Graph\n",
    "time_points = np.arange(len(tweets))\n",
    "\n",
    "plt.plot(time_points, retweets, label='Retweets')\n",
    "plt.plot(time_points, likes, label='Likes')\n",
    "plt.plot(time_points, replies, label='Replies')\n",
    "plt.title('User Engagement Over Time')\n",
    "plt.xlabel('Tweet Index')\n",
    "plt.ylabel('Count')\n",
    "plt.legend()\n",
    "plt.show()\n",
    "\n"
   ]
  },
  {
   "cell_type": "code",
   "execution_count": 166,
   "metadata": {},
   "outputs": [
    {
     "name": "stdout",
     "output_type": "stream",
     "text": [
      "Defaulting to user installation because normal site-packages is not writeable\n",
      "Requirement already satisfied: transformers in c:\\users\\jeekay\\appdata\\roaming\\python\\python311\\site-packages (4.38.2)\n",
      "Requirement already satisfied: filelock in c:\\users\\jeekay\\appdata\\roaming\\python\\python311\\site-packages (from transformers) (3.12.0)\n",
      "Requirement already satisfied: huggingface-hub<1.0,>=0.19.3 in c:\\users\\jeekay\\appdata\\roaming\\python\\python311\\site-packages (from transformers) (0.21.4)\n",
      "Requirement already satisfied: numpy>=1.17 in c:\\users\\jeekay\\appdata\\roaming\\python\\python311\\site-packages (from transformers) (1.26.4)\n",
      "Requirement already satisfied: packaging>=20.0 in c:\\users\\jeekay\\appdata\\roaming\\python\\python311\\site-packages (from transformers) (23.1)\n",
      "Requirement already satisfied: pyyaml>=5.1 in c:\\users\\jeekay\\appdata\\roaming\\python\\python311\\site-packages (from transformers) (6.0.1)\n",
      "Requirement already satisfied: regex!=2019.12.17 in c:\\users\\jeekay\\appdata\\roaming\\python\\python311\\site-packages (from transformers) (2023.12.25)\n",
      "Requirement already satisfied: requests in c:\\users\\jeekay\\appdata\\roaming\\python\\python311\\site-packages (from transformers) (2.30.0)\n",
      "Requirement already satisfied: tokenizers<0.19,>=0.14 in c:\\users\\jeekay\\appdata\\roaming\\python\\python311\\site-packages (from transformers) (0.15.2)\n",
      "Requirement already satisfied: safetensors>=0.4.1 in c:\\users\\jeekay\\appdata\\roaming\\python\\python311\\site-packages (from transformers) (0.4.2)\n",
      "Requirement already satisfied: tqdm>=4.27 in c:\\users\\jeekay\\appdata\\roaming\\python\\python311\\site-packages (from transformers) (4.66.2)\n",
      "Requirement already satisfied: fsspec>=2023.5.0 in c:\\users\\jeekay\\appdata\\roaming\\python\\python311\\site-packages (from huggingface-hub<1.0,>=0.19.3->transformers) (2024.2.0)\n",
      "Requirement already satisfied: typing-extensions>=3.7.4.3 in c:\\users\\jeekay\\appdata\\roaming\\python\\python311\\site-packages (from huggingface-hub<1.0,>=0.19.3->transformers) (4.7.1)\n",
      "Requirement already satisfied: colorama in c:\\users\\jeekay\\appdata\\roaming\\python\\python311\\site-packages (from tqdm>=4.27->transformers) (0.4.6)\n",
      "Requirement already satisfied: charset-normalizer<4,>=2 in c:\\users\\jeekay\\appdata\\roaming\\python\\python311\\site-packages (from requests->transformers) (3.1.0)\n",
      "Requirement already satisfied: idna<4,>=2.5 in c:\\users\\jeekay\\appdata\\roaming\\python\\python311\\site-packages (from requests->transformers) (3.4)\n",
      "Requirement already satisfied: urllib3<3,>=1.21.1 in c:\\users\\jeekay\\appdata\\roaming\\python\\python311\\site-packages (from requests->transformers) (1.26.16)\n",
      "Requirement already satisfied: certifi>=2017.4.17 in c:\\users\\jeekay\\appdata\\roaming\\python\\python311\\site-packages (from requests->transformers) (2022.12.7)\n"
     ]
    },
    {
     "name": "stderr",
     "output_type": "stream",
     "text": [
      "\n",
      "[notice] A new release of pip is available: 24.2 -> 25.1.1\n",
      "[notice] To update, run: python.exe -m pip install --upgrade pip\n"
     ]
    }
   ],
   "source": [
    "!pip install transformers\n"
   ]
  },
  {
   "cell_type": "code",
   "execution_count": 167,
   "metadata": {},
   "outputs": [
    {
     "name": "stderr",
     "output_type": "stream",
     "text": [
      "All model checkpoint layers were used when initializing TFRobertaForSequenceClassification.\n",
      "\n",
      "All the layers of TFRobertaForSequenceClassification were initialized from the model checkpoint at siebert/sentiment-roberta-large-english.\n",
      "If your task is similar to the task the model of the checkpoint was trained on, you can already use TFRobertaForSequenceClassification for predictions without further training.\n"
     ]
    }
   ],
   "source": [
    "from transformers import pipeline\n",
    "roberta_pipe = pipeline(\"text-classification\", model=\"siebert/sentiment-roberta-large-english\")"
   ]
  },
  {
   "cell_type": "code",
   "execution_count": 168,
   "metadata": {},
   "outputs": [
    {
     "name": "stdout",
     "output_type": "stream",
     "text": [
      "Columns in dfn: ['text', 'airline_sentiment']\n",
      "\n",
      "DataFrame shape: (11541, 2)\n",
      "\n",
      "First few rows:\n",
      "                                                text airline_sentiment\n",
      "1  @VirginAmerica plus you've added commercials t...          positive\n",
      "3  @VirginAmerica it's really aggressive to blast...          negative\n",
      "4  @VirginAmerica and it's a really big bad thing...          negative\n",
      "5  @VirginAmerica seriously would pay $30 a fligh...          negative\n",
      "6  @VirginAmerica yes, nearly every time I fly VX...          positive\n"
     ]
    }
   ],
   "source": [
    "# Check what columns your DataFrame actually has\n",
    "print(\"Columns in dfn:\", dfn.columns.tolist())\n",
    "print(\"\\nDataFrame shape:\", dfn.shape)\n",
    "print(\"\\nFirst few rows:\")\n",
    "print(dfn.head())"
   ]
  },
  {
   "cell_type": "code",
   "execution_count": 169,
   "metadata": {},
   "outputs": [
    {
     "name": "stderr",
     "output_type": "stream",
     "text": [
      "\n",
      "[notice] A new release of pip is available: 24.2 -> 25.1.1\n",
      "[notice] To update, run: python.exe -m pip install --upgrade pip\n"
     ]
    },
    {
     "name": "stdout",
     "output_type": "stream",
     "text": [
      "Defaulting to user installation because normal site-packages is not writeable\n",
      "Requirement already satisfied: transformers in c:\\users\\jeekay\\appdata\\roaming\\python\\python311\\site-packages (4.38.2)\n",
      "Requirement already satisfied: filelock in c:\\users\\jeekay\\appdata\\roaming\\python\\python311\\site-packages (from transformers) (3.12.0)\n",
      "Requirement already satisfied: huggingface-hub<1.0,>=0.19.3 in c:\\users\\jeekay\\appdata\\roaming\\python\\python311\\site-packages (from transformers) (0.21.4)\n",
      "Requirement already satisfied: numpy>=1.17 in c:\\users\\jeekay\\appdata\\roaming\\python\\python311\\site-packages (from transformers) (1.26.4)\n",
      "Requirement already satisfied: packaging>=20.0 in c:\\users\\jeekay\\appdata\\roaming\\python\\python311\\site-packages (from transformers) (23.1)\n",
      "Requirement already satisfied: pyyaml>=5.1 in c:\\users\\jeekay\\appdata\\roaming\\python\\python311\\site-packages (from transformers) (6.0.1)\n",
      "Requirement already satisfied: regex!=2019.12.17 in c:\\users\\jeekay\\appdata\\roaming\\python\\python311\\site-packages (from transformers) (2023.12.25)\n",
      "Requirement already satisfied: requests in c:\\users\\jeekay\\appdata\\roaming\\python\\python311\\site-packages (from transformers) (2.30.0)\n",
      "Requirement already satisfied: tokenizers<0.19,>=0.14 in c:\\users\\jeekay\\appdata\\roaming\\python\\python311\\site-packages (from transformers) (0.15.2)\n",
      "Requirement already satisfied: safetensors>=0.4.1 in c:\\users\\jeekay\\appdata\\roaming\\python\\python311\\site-packages (from transformers) (0.4.2)\n",
      "Requirement already satisfied: tqdm>=4.27 in c:\\users\\jeekay\\appdata\\roaming\\python\\python311\\site-packages (from transformers) (4.66.2)\n",
      "Requirement already satisfied: fsspec>=2023.5.0 in c:\\users\\jeekay\\appdata\\roaming\\python\\python311\\site-packages (from huggingface-hub<1.0,>=0.19.3->transformers) (2024.2.0)\n",
      "Requirement already satisfied: typing-extensions>=3.7.4.3 in c:\\users\\jeekay\\appdata\\roaming\\python\\python311\\site-packages (from huggingface-hub<1.0,>=0.19.3->transformers) (4.7.1)\n",
      "Requirement already satisfied: colorama in c:\\users\\jeekay\\appdata\\roaming\\python\\python311\\site-packages (from tqdm>=4.27->transformers) (0.4.6)\n",
      "Requirement already satisfied: charset-normalizer<4,>=2 in c:\\users\\jeekay\\appdata\\roaming\\python\\python311\\site-packages (from requests->transformers) (3.1.0)\n",
      "Requirement already satisfied: idna<4,>=2.5 in c:\\users\\jeekay\\appdata\\roaming\\python\\python311\\site-packages (from requests->transformers) (3.4)\n",
      "Requirement already satisfied: urllib3<3,>=1.21.1 in c:\\users\\jeekay\\appdata\\roaming\\python\\python311\\site-packages (from requests->transformers) (1.26.16)\n",
      "Requirement already satisfied: certifi>=2017.4.17 in c:\\users\\jeekay\\appdata\\roaming\\python\\python311\\site-packages (from requests->transformers) (2022.12.7)\n"
     ]
    },
    {
     "name": "stderr",
     "output_type": "stream",
     "text": [
      "All model checkpoint layers were used when initializing TFRobertaForSequenceClassification.\n",
      "\n",
      "All the layers of TFRobertaForSequenceClassification were initialized from the model checkpoint at siebert/sentiment-roberta-large-english.\n",
      "If your task is similar to the task the model of the checkpoint was trained on, you can already use TFRobertaForSequenceClassification for predictions without further training.\n"
     ]
    },
    {
     "name": "stdout",
     "output_type": "stream",
     "text": [
      "\u001b[1m1/1\u001b[0m \u001b[32m━━━━━━━━━━━━━━━━━━━━\u001b[0m\u001b[37m\u001b[0m \u001b[1m0s\u001b[0m 323ms/step\n",
      "\n",
      "📝 Text: @united EVERYTIME I fly UR airline I hate you even more ! Thanks for the terrible service on flight ...\n",
      "✅ Actual: Negative\n",
      "🤖 LCNN-ATT → Negative\n",
      "🤖 RoBERTa → Negative\n",
      "--------------------------------------------------------------------------------\n",
      "\u001b[1m1/1\u001b[0m \u001b[32m━━━━━━━━━━━━━━━━━━━━\u001b[0m\u001b[37m\u001b[0m \u001b[1m0s\u001b[0m 47ms/step\n",
      "\n",
      "📝 Text: @united on 2/20 Denver AP, gate B91 (destination Santa Fe), agent Ashley did an amazing job in the f...\n",
      "✅ Actual: Positive\n",
      "🤖 LCNN-ATT → Negative\n",
      "🤖 RoBERTa → Positive\n",
      "--------------------------------------------------------------------------------\n",
      "\u001b[1m1/1\u001b[0m \u001b[32m━━━━━━━━━━━━━━━━━━━━\u001b[0m\u001b[37m\u001b[0m \u001b[1m0s\u001b[0m 28ms/step\n",
      "\n",
      "📝 Text: @united I left my comment with customer care. Thanks for contacting me....\n",
      "✅ Actual: Positive\n",
      "🤖 LCNN-ATT → Negative\n",
      "🤖 RoBERTa → Positive\n",
      "--------------------------------------------------------------------------------\n",
      "\u001b[1m1/1\u001b[0m \u001b[32m━━━━━━━━━━━━━━━━━━━━\u001b[0m\u001b[37m\u001b[0m \u001b[1m0s\u001b[0m 48ms/step\n",
      "\n",
      "📝 Text: @united why would they make me share a room?...\n",
      "✅ Actual: Negative\n",
      "🤖 LCNN-ATT → Negative\n",
      "🤖 RoBERTa → Negative\n",
      "--------------------------------------------------------------------------------\n",
      "\u001b[1m1/1\u001b[0m \u001b[32m━━━━━━━━━━━━━━━━━━━━\u001b[0m\u001b[37m\u001b[0m \u001b[1m0s\u001b[0m 59ms/step\n",
      "\n",
      "📝 Text: @United and here i thought American was bad. Horrible Service. Over 2:30 min Late Flight. No excuse!...\n",
      "✅ Actual: Negative\n",
      "🤖 LCNN-ATT → Negative\n",
      "🤖 RoBERTa → Negative\n",
      "--------------------------------------------------------------------------------\n",
      "\u001b[1m1/1\u001b[0m \u001b[32m━━━━━━━━━━━━━━━━━━━━\u001b[0m\u001b[37m\u001b[0m \u001b[1m0s\u001b[0m 34ms/step\n",
      "\n",
      "📝 Text: @VirginAmerica Hi! Just wanted to see if you have any new routes planned this year for Newark. Love ...\n",
      "✅ Actual: Positive\n",
      "🤖 LCNN-ATT → Negative\n",
      "🤖 RoBERTa → Positive\n",
      "--------------------------------------------------------------------------------\n",
      "\u001b[1m1/1\u001b[0m \u001b[32m━━━━━━━━━━━━━━━━━━━━\u001b[0m\u001b[37m\u001b[0m \u001b[1m0s\u001b[0m 35ms/step\n",
      "\n",
      "📝 Text: @united thanks for ruined my vacation for having poorly maintained aircrafts that can’t fly safely o...\n",
      "✅ Actual: Negative\n",
      "🤖 LCNN-ATT → Negative\n",
      "🤖 RoBERTa → Negative\n",
      "--------------------------------------------------------------------------------\n",
      "\u001b[1m1/1\u001b[0m \u001b[32m━━━━━━━━━━━━━━━━━━━━\u001b[0m\u001b[37m\u001b[0m \u001b[1m0s\u001b[0m 35ms/step\n",
      "\n",
      "📝 Text: @united It's the horrible attitude from staff after , not just the delay. Not the level of service o...\n",
      "✅ Actual: Negative\n",
      "🤖 LCNN-ATT → Negative\n",
      "🤖 RoBERTa → Negative\n",
      "--------------------------------------------------------------------------------\n",
      "\u001b[1m1/1\u001b[0m \u001b[32m━━━━━━━━━━━━━━━━━━━━\u001b[0m\u001b[37m\u001b[0m \u001b[1m0s\u001b[0m 34ms/step\n",
      "\n",
      "📝 Text: “@VirginAmerica: @KarinSLee Of course. Have fun celebrating!” Thanks! Happy Chinese New Year!...\n",
      "✅ Actual: Positive\n",
      "🤖 LCNN-ATT → Negative\n",
      "🤖 RoBERTa → Positive\n",
      "--------------------------------------------------------------------------------\n",
      "\u001b[1m1/1\u001b[0m \u001b[32m━━━━━━━━━━━━━━━━━━━━\u001b[0m\u001b[37m\u001b[0m \u001b[1m0s\u001b[0m 32ms/step\n",
      "\n",
      "📝 Text: @united yes there is when you keep getting the same robotic answer....\n",
      "✅ Actual: Negative\n",
      "🤖 LCNN-ATT → Negative\n",
      "🤖 RoBERTa → Negative\n",
      "--------------------------------------------------------------------------------\n"
     ]
    }
   ],
   "source": [
    "!pip install transformers\n",
    "\n",
    "from transformers import pipeline\n",
    "import numpy as np\n",
    "\n",
    "# Load Hugging Face model\n",
    "roberta_pipe = pipeline(\"text-classification\", model=\"siebert/sentiment-roberta-large-english\")\n",
    "\n",
    "# Load the model if not in memory\n",
    "from tensorflow.keras.models import load_model\n",
    "model = load_model(\"best_model.keras\")  # or \"sentiment_model.keras\" if you save it later\n",
    "\n",
    "# Sample 10 tweets to compare\n",
    "sample_indices = np.random.choice(len(X_test), 10, replace=False)\n",
    "label_map = {0: 'Negative', 1: 'Neutral', 2: 'Positive'}\n",
    "\n",
    "for idx in sample_indices:\n",
    "    raw_text = dfn['text'].iloc[idx]\n",
    "\n",
    "    # LCNN-ATT prediction\n",
    "    lcnn_pred = model.predict(X_test[idx:idx+1])\n",
    "    lcnn_label = label_map[np.argmax(lcnn_pred)]\n",
    "\n",
    "    # RoBERTa prediction\n",
    "    roberta_result = roberta_pipe(raw_text)[0]\n",
    "    roberta_label = roberta_result['label'].capitalize()\n",
    "\n",
    "    # Actual label\n",
    "    actual_label = dfn['airline_sentiment'].iloc[idx].capitalize()\n",
    "\n",
    "    print(f\"\\n📝 Text: {raw_text[:100]}...\")\n",
    "    print(f\"✅ Actual: {actual_label}\")\n",
    "    print(f\"🤖 LCNN-ATT → {lcnn_label}\")\n",
    "    print(f\"🤖 RoBERTa → {roberta_label}\")\n",
    "    print(\"-\" * 80)\n"
   ]
  },
  {
   "cell_type": "code",
   "execution_count": 172,
   "metadata": {},
   "outputs": [],
   "source": [
    "# Save final model\n",
    "model.save(\"best_model.keras\")\n",
    "\n",
    "# Save tokenizer\n",
    "import pickle\n",
    "with open(\"tokenizer.pkl\", \"wb\") as f:\n",
    "    pickle.dump(tokenizer, f)\n"
   ]
  },
  {
   "cell_type": "code",
   "execution_count": 173,
   "metadata": {},
   "outputs": [
    {
     "name": "stdout",
     "output_type": "stream",
     "text": [
      "Counter({1: 7316, 0: 1916})\n"
     ]
    }
   ],
   "source": [
    "from collections import Counter\n",
    "print(Counter(y_train))\n"
   ]
  }
 ],
 "metadata": {
  "kernelspec": {
   "display_name": "Python 3",
   "language": "python",
   "name": "python3"
  },
  "language_info": {
   "codemirror_mode": {
    "name": "ipython",
    "version": 3
   },
   "file_extension": ".py",
   "mimetype": "text/x-python",
   "name": "python",
   "nbconvert_exporter": "python",
   "pygments_lexer": "ipython3",
   "version": "3.11.3"
  }
 },
 "nbformat": 4,
 "nbformat_minor": 2
}
